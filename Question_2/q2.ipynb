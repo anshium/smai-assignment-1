{
 "cells": [
  {
   "cell_type": "markdown",
   "metadata": {},
   "source": [
    "# KNN and ANN"
   ]
  },
  {
   "cell_type": "markdown",
   "metadata": {},
   "source": [
    "## 3.1 KNN"
   ]
  },
  {
   "cell_type": "code",
   "execution_count": 1,
   "metadata": {},
   "outputs": [],
   "source": [
    "import numpy as np\n",
    "from sklearn.metrics.pairwise import euclidean_distances, cosine_distances\n",
    "\n",
    "from icecream import ic"
   ]
  },
  {
   "cell_type": "code",
   "execution_count": 2,
   "metadata": {},
   "outputs": [],
   "source": [
    "def compute_distances(query, database, metric='euclidean'):\n",
    "    if metric == 'euclidean':\n",
    "        return euclidean_distances(query, database)\n",
    "    else: # metric == 'cosine':\n",
    "        return cosine_distances(query, database)\n",
    "\n",
    "def knn(query, database, k=1, metric='euclidean'):\n",
    "    distances = compute_distances(query, database, metric)\n",
    "    return np.argsort(distances, axis=1)[:, :k]\n",
    "\n",
    "def accuracy(predictions, true_labels):\n",
    "    return np.mean(predictions == true_labels)\n",
    "\n",
    "def mean_reciprocal_rank(ranks):\n",
    "    return np.mean([1.0 / (rank + 1) for rank in ranks])\n",
    "\n",
    "def precision_at_k(retrieved, relevant, k=100):\n",
    "    return np.mean([len(set(r[:k]) & set(rel)) / k for r, rel in zip(retrieved, relevant)])\n",
    "\n",
    "def hit_rate(retrieved, relevant):\n",
    "    return np.mean([bool(set(r) & set(rel)) for r, rel in zip(retrieved, relevant)])\n"
   ]
  },
  {
   "cell_type": "code",
   "execution_count": 3,
   "metadata": {},
   "outputs": [],
   "source": [
    "import torch\n",
    "\n",
    "test_embeddings = torch.load(\"data/test_embeddings.pth\").cpu().numpy()\n",
    "test_labels = torch.load(\"data/test_labels.pth\").cpu().numpy()\n",
    "text_embeddings = torch.load(\"data/text_embedding.pth\").cpu().numpy()\n",
    "train_embeddings = torch.load(\"data/train_embeddings.pth\").cpu().numpy()\n",
    "train_labels = torch.load(\"data/train_labels.pth\").cpu().numpy()\n"
   ]
  },
  {
   "cell_type": "code",
   "execution_count": 17,
   "metadata": {},
   "outputs": [],
   "source": [
    "from collections import Counter\n",
    "\n",
    "labels_semantics = np.array([\"airplane\", \"automobile\", \"bird\", \"cat\", \"deer\", \"dog\", \"frog\", \"horse\", \"ship\", \"truck\"])\n",
    "\n",
    "def get_label_predictions(knn_values):\n",
    "    index_to_labels = train_labels[knn_values]\n",
    "\n",
    "    mapped = labels_semantics[np.array(index_to_labels)]\n",
    "\n",
    "    most_common_labels = [Counter(row).most_common(1)[0][0] for row in mapped]\n",
    "    \n",
    "    return np.array(most_common_labels)"
   ]
  },
  {
   "cell_type": "markdown",
   "metadata": {},
   "source": [
    "### Task 1: Classification"
   ]
  },
  {
   "cell_type": "markdown",
   "metadata": {},
   "source": [
    "`Part A:` Classify each image in the test set using the labels of the k nearest neighbours from the train\n",
    "set. Report the accuracy for 3 different values of k(1, 5, 10) and cosine and eucledian distance\n",
    "metrics (2 Marks)."
   ]
  },
  {
   "cell_type": "markdown",
   "metadata": {},
   "source": [
    "#### Subpart 1: Euclidean distances for k = 1, 5, 10"
   ]
  },
  {
   "cell_type": "code",
   "execution_count": 5,
   "metadata": {},
   "outputs": [],
   "source": [
    "k_1_values_euclidean = knn(test_embeddings, train_embeddings, k = 1, metric = \"euclidean\")\n",
    "\n",
    "k_5_values_euclidean = knn(test_embeddings, train_embeddings, k = 5, metric = \"euclidean\")\n",
    "\n",
    "k_10_values_euclidean = knn(test_embeddings, train_embeddings, k = 10, metric = \"euclidean\")\n",
    "\n",
    "k_x_euclidean = [k_1_values_euclidean, k_5_values_euclidean, k_10_values_euclidean]"
   ]
  },
  {
   "cell_type": "code",
   "execution_count": 12,
   "metadata": {},
   "outputs": [
    {
     "name": "stdout",
     "output_type": "stream",
     "text": [
      "(10000, 1)\n",
      "(10000, 5)\n",
      "(10000, 10)\n"
     ]
    }
   ],
   "source": [
    "print(k_1_values_euclidean.shape)\n",
    "print(k_5_values_euclidean.shape)\n",
    "print(k_10_values_euclidean.shape)"
   ]
  },
  {
   "cell_type": "code",
   "execution_count": 20,
   "metadata": {},
   "outputs": [
    {
     "name": "stdout",
     "output_type": "stream",
     "text": [
      "['frog' 'ship' 'ship' ... 'dog' 'airplane' 'horse']\n",
      "['frog' 'ship' 'ship' ... 'dog' 'airplane' 'horse']\n",
      "['cat' 'ship' 'ship' ... 'dog' 'airplane' 'horse']\n"
     ]
    }
   ],
   "source": [
    "# for k_x_eu in k_x_euclidean:\n",
    "print(get_label_predictions(k_1_values_euclidean))\n",
    "print(get_label_predictions(k_5_values_euclidean))\n",
    "print(get_label_predictions(k_10_values_euclidean))"
   ]
  },
  {
   "cell_type": "code",
   "execution_count": 37,
   "metadata": {},
   "outputs": [],
   "source": [
    "index_to_labels_k_1_eu = train_labels[k_1_values_euclidean]\n",
    "index_to_labels_k_5_eu = train_labels[k_5_values_euclidean]\n",
    "index_to_labels_k_10_eu = train_labels[k_10_values_euclidean]\n",
    "\n",
    "\n",
    "most_common_labels_k_1_eu = np.array([Counter(row).most_common(1)[0][0] for row in index_to_labels_k_1_eu])\n",
    "most_common_labels_k_5_eu = np.array([Counter(row).most_common(1)[0][0] for row in index_to_labels_k_5_eu])\n",
    "most_common_labels_k_10_eu = np.array([Counter(row).most_common(1)[0][0] for row in index_to_labels_k_10_eu])"
   ]
  },
  {
   "cell_type": "code",
   "execution_count": 44,
   "metadata": {},
   "outputs": [
    {
     "name": "stdout",
     "output_type": "stream",
     "text": [
      "Accuracy for k = 1: 90.48 %\n",
      "Accuracy for k = 5: 91.9 %\n",
      "Accuracy for k = 10: 92.07 %\n"
     ]
    }
   ],
   "source": [
    "print(\"Accuracy for k = 1:\", accuracy(most_common_labels_k_1_eu, test_labels) * 100, \"%\")\n",
    "print(\"Accuracy for k = 5:\", accuracy(most_common_labels_k_5_eu, test_labels)* 100, \"%\")\n",
    "print(\"Accuracy for k = 10:\", accuracy(most_common_labels_k_10_eu, test_labels)* 100, \"%\")"
   ]
  },
  {
   "cell_type": "code",
   "execution_count": 6,
   "metadata": {},
   "outputs": [
    {
     "ename": "",
     "evalue": "",
     "output_type": "error",
     "traceback": [
      "\u001b[1;31mThe Kernel crashed while executing code in the current cell or a previous cell. \n",
      "\u001b[1;31mPlease review the code in the cell(s) to identify a possible cause of the failure. \n",
      "\u001b[1;31mClick <a href='https://aka.ms/vscodeJupyterKernelCrash'>here</a> for more info. \n",
      "\u001b[1;31mView Jupyter <a href='command:jupyter.viewOutput'>log</a> for further details."
     ]
    }
   ],
   "source": [
    "k_1_values_cosine = knn(test_embeddings, train_embeddings, k = 1, metric = \"cosine\")\n",
    "\n",
    "k_5_values_cosine = knn(test_embeddings, train_embeddings, k = 5, metric = \"cosine\")\n",
    "\n",
    "k_10_values_cosine = knn(test_embeddings, train_embeddings, k = 10, metric = \"cosine\")\n",
    "\n",
    "k_x_cosine = [k_1_values_cosine, k_5_values_cosine, k_10_values_cosine]"
   ]
  },
  {
   "cell_type": "code",
   "execution_count": null,
   "metadata": {},
   "outputs": [],
   "source": [
    "labels_semantics = np.array([\"airplane\", \"automobile\", \"bird\", \"cat\", \"deer\", \"dog\", \"frog\", \"horse\", \"ship\", \"truck\"])\n",
    "\n",
    "def get_label_predictions(knn_values):\n",
    "    index_to_labels = train_labels[knn_values.reshape(1, len(knn_values))[0]]\n",
    "\n",
    "    mapped = labels_semantics[np.array(index_to_labels)]\n",
    "\n",
    "    return mapped"
   ]
  },
  {
   "cell_type": "code",
   "execution_count": null,
   "metadata": {},
   "outputs": [],
   "source": [
    "for i in k_x_euclidean:\n",
    "    label_semantics = get_label_predictions(k_x_euclidean[i])\n",
    "\n",
    "    ic(label_semantics)\n",
    "\n",
    "    accuracy(label_semantics)\n",
    "    "
   ]
  },
  {
   "cell_type": "markdown",
   "metadata": {},
   "source": [
    "`Part B:` Instead of using the train set to predict the labels, now use the text embeddings to predict the\n",
    "labels. Using k = 1, get the text embedding closest to each image and predict the accuracy (2\n",
    "Marks)"
   ]
  },
  {
   "cell_type": "code",
   "execution_count": 44,
   "metadata": {},
   "outputs": [],
   "source": [
    "distances_text = compute_distances(test_embeddings, text_embeddings, metric = \"euclidean\")\n",
    "k_1_values_text = knn(test_embeddings, text_embeddings, k = 1, metric = \"euclidean\")"
   ]
  },
  {
   "cell_type": "code",
   "execution_count": 49,
   "metadata": {},
   "outputs": [],
   "source": [
    "mapped_text = labels_semantics[np.array(k_1_values_text)]"
   ]
  },
  {
   "cell_type": "code",
   "execution_count": 51,
   "metadata": {},
   "outputs": [
    {
     "data": {
      "text/plain": [
       "array([['cat'],\n",
       "       ['ship'],\n",
       "       ['ship'],\n",
       "       ...,\n",
       "       ['dog'],\n",
       "       ['airplane'],\n",
       "       ['horse']], dtype='<U10')"
      ]
     },
     "execution_count": 51,
     "metadata": {},
     "output_type": "execute_result"
    }
   ],
   "source": [
    "mapped_text"
   ]
  },
  {
   "cell_type": "markdown",
   "metadata": {},
   "source": [
    "#### Task 2: Retreival"
   ]
  },
  {
   "cell_type": "markdown",
   "metadata": {},
   "source": [
    "`Part A:` Text to Image Retrieval: For each text embedding retrieve the 100 nearest embeddings from the\n",
    "train set and report the 3 metrics: Mean reciprocal rank, precision@100 and hit rate. (2 Marks)"
   ]
  },
  {
   "cell_type": "code",
   "execution_count": 54,
   "metadata": {},
   "outputs": [],
   "source": [
    "text_to_image = knn(text_embeddings, train_embeddings, k=100, metric=\"euclidean\")"
   ]
  },
  {
   "cell_type": "code",
   "execution_count": 57,
   "metadata": {},
   "outputs": [
    {
     "data": {
      "text/plain": [
       "(10, 100)"
      ]
     },
     "execution_count": 57,
     "metadata": {},
     "output_type": "execute_result"
    }
   ],
   "source": [
    "text_to_image.shape"
   ]
  },
  {
   "cell_type": "markdown",
   "metadata": {},
   "source": [
    "`Part B:` Image to Image Retrieval: For each test embedding retrieve the 100 nearest embeddings from\n",
    "train set and report the metrics mentioned above. (2 Marks)"
   ]
  },
  {
   "cell_type": "code",
   "execution_count": 58,
   "metadata": {},
   "outputs": [],
   "source": [
    "image_to_image = knn(test_embeddings, train_embeddings, k = 100, metric = \"euclidean\")"
   ]
  },
  {
   "cell_type": "markdown",
   "metadata": {},
   "source": [
    "## 3.2 Locally Sensitive Hashing"
   ]
  },
  {
   "cell_type": "markdown",
   "metadata": {},
   "source": [
    "#### `Task 1:` Implement LSH following the article linked above using random hyperplanes."
   ]
  },
  {
   "cell_type": "code",
   "execution_count": 59,
   "metadata": {},
   "outputs": [],
   "source": [
    "import numpy as np\n",
    "import matplotlib.pyplot as plt"
   ]
  },
  {
   "cell_type": "code",
   "execution_count": 61,
   "metadata": {},
   "outputs": [],
   "source": [
    "class LSH:\n",
    "    def __init__(self, num_hyperplanes, dim):\n",
    "        self.num_hyperplanes = num_hyperplanes\n",
    "        self.dim = dim\n",
    "        self.hyperplanes = np.random.randn(num_hyperplanes, dim)\n",
    "        self.buckets = dict()\n",
    "\n",
    "    def hash_vector(self, vec):\n",
    "        return tuple((vec @ self.hyperplanes.T) > 0)\n",
    "\n",
    "    def insert(self, vec, index):\n",
    "        hash_key = self.hash_vector(vec)\n",
    "\n",
    "        if hash_key not in list(self.buckets.keys()):\n",
    "            self.buckets[hash_key] = []\n",
    "        self.buckets[hash_key].append(index)\n",
    "\n",
    "    def query(self, vec, k):\n",
    "        hash_key = self.hash_vector(vec)\n",
    "        candidates = self.buckets.get(hash_key, [])\n",
    "\n",
    "        # there could be too many, so..\n",
    "        if len(candidates) >= k:\n",
    "            return np.random.choice(candidates, k, replace=False)\n",
    "        \n",
    "        all_candidates = list(candidates)\n",
    "        for key, indices in self.buckets.items():\n",
    "            if len(all_candidates) >= k:\n",
    "                break\n",
    "            all_candidates.extend(indices)\n",
    "        \n",
    "        return np.array(all_candidates[:k])"
   ]
  },
  {
   "cell_type": "markdown",
   "metadata": {},
   "source": [
    "#### `Task 2:` Plot histograms showing frequency of samples in each bucket. Do this for different number of hyperplanes. What problems do you notice here?"
   ]
  },
  {
   "cell_type": "code",
   "execution_count": 62,
   "metadata": {},
   "outputs": [],
   "source": [
    "import torch\n",
    "\n",
    "test_embeddings = torch.load(\"data/test_embeddings.pth\").cpu().numpy()\n",
    "test_labels = torch.load(\"data/test_labels.pth\").cpu().numpy()\n",
    "text_embeddings = torch.load(\"data/text_embedding.pth\").cpu().numpy()\n",
    "train_embeddings = torch.load(\"data/train_embeddings.pth\").cpu().numpy()"
   ]
  },
  {
   "cell_type": "code",
   "execution_count": 63,
   "metadata": {},
   "outputs": [],
   "source": [
    "n, d = train_embeddings.shape\n",
    "num_hyperplanes_list = [5, 10, 20, 50]"
   ]
  },
  {
   "cell_type": "code",
   "execution_count": 64,
   "metadata": {},
   "outputs": [
    {
     "data": {
      "image/png": "[encoded data removed]",
      "text/plain": [
       "<Figure size 640x480 with 1 Axes>"
      ]
     },
     "metadata": {},
     "output_type": "display_data"
    }
   ],
   "source": [
    "for num_hyperplanes in num_hyperplanes_list:\n",
    "    lsh = LSH(num_hyperplanes, d)\n",
    "    \n",
    "    for idx, vec in enumerate(train_embeddings):\n",
    "        lsh.insert(vec, idx)\n",
    "    \n",
    "    bucket_sizes = [len(v) for v in lsh.buckets.values()]\n",
    "    plt.hist(bucket_sizes, bins=20, alpha=0.7, label=f'{num_hyperplanes} hyperplanes')"
   ]
  },
  {
   "cell_type": "markdown",
   "metadata": {},
   "source": [
    "Problems that I notice here:"
   ]
  },
  {
   "cell_type": "markdown",
   "metadata": {},
   "source": [
    "fill this ------------------------------------------------------------------------->>>>>>>>>>>>>>>>>>>>>>>"
   ]
  },
  {
   "cell_type": "markdown",
   "metadata": {},
   "source": [
    "#### `Task 3:` Perform image to image retrieval for your choice of k and report metrics mentioned in the previous section."
   ]
  },
  {
   "cell_type": "code",
   "execution_count": 65,
   "metadata": {},
   "outputs": [
    {
     "name": "stderr",
     "output_type": "stream",
     "text": [
      "/tmp/ipykernel_39275/1927524200.py:3: UserWarning: No artists with labels found to put in legend.  Note that artists whose label start with an underscore are ignored when legend() is called with no argument.\n",
      "  plt.legend()\n"
     ]
    },
    {
     "data": {
      "image/png": "[encoded data removed]",
      "text/plain": [
       "<Figure size 640x480 with 1 Axes>"
      ]
     },
     "metadata": {},
     "output_type": "display_data"
    },
    {
     "name": "stdout",
     "output_type": "stream",
     "text": [
      "Retrieved Neighbors for Test Image: [0 0 1 2 3]\n"
     ]
    }
   ],
   "source": [
    "plt.xlabel('Bucket Size')\n",
    "plt.ylabel('Frequency')\n",
    "plt.legend()\n",
    "plt.title('LSH Bucket Distribution')\n",
    "plt.show()\n",
    "\n",
    "test_index = 0\n",
    "retrieved_indices = lsh.query(train_embeddings[test_index], k=5)\n",
    "\n",
    "print(\"Retrieved Neighbors for Test Image:\", retrieved_indices)"
   ]
  },
  {
   "cell_type": "markdown",
   "metadata": {},
   "source": [
    "#### `Task 4:` How do these metrics change, on changing the number of hyperplanes, mention possible reasons for these."
   ]
  },
  {
   "cell_type": "markdown",
   "metadata": {},
   "source": []
  },
  {
   "cell_type": "markdown",
   "metadata": {},
   "source": [
    "## 3.3 IVF"
   ]
  },
  {
   "cell_type": "markdown",
   "metadata": {},
   "source": [
    "#### `Task 1`: Implement IVF from scratch. Use Kmeans algorithm for clustering. Since the dataset has 10 classes one can assign clusters as 10 but you are free to experiment."
   ]
  },
  {
   "cell_type": "code",
   "execution_count": 5,
   "metadata": {},
   "outputs": [],
   "source": [
    "import numpy as np\n",
    "import matplotlib.pyplot as plt\n",
    "from sklearn.cluster import KMeans\n",
    "from scipy.spatial.distance import cdist"
   ]
  },
  {
   "cell_type": "code",
   "execution_count": 66,
   "metadata": {},
   "outputs": [],
   "source": [
    "class IVF:\n",
    "    def __init__(self, k=10):\n",
    "        self.k = k\n",
    "        self.kmeans = KMeans(n_clusters=k, random_state=42, n_init=10)\n",
    "        self.inverted_index = {}\n",
    "    \n",
    "    def fit(self, data):\n",
    "        self.kmeans.fit(data)\n",
    "        labels = self.kmeans.labels_\n",
    "        self.inverted_index = {i: [] for i in range(self.k)}\n",
    "        \n",
    "        for i, label in enumerate(labels):\n",
    "            self.inverted_index[label].append(data[i])\n",
    "        \n",
    "        for key in self.inverted_index:\n",
    "            self.inverted_index[key] = np.array(self.inverted_index[key])\n",
    "    \n",
    "    def search(self, query, nprobe=1, top_k=5):\n",
    "        centroids = self.kmeans.cluster_centers_\n",
    "        dists = cdist([query], centroids, metric='euclidean')[0]\n",
    "        closest_clusters = np.argsort(dists)[:nprobe]\n",
    "        \n",
    "        candidates = []\n",
    "        for cluster in closest_clusters:\n",
    "            candidates.extend(self.inverted_index.get(cluster, []))\n",
    "        \n",
    "        candidates = np.array(candidates)\n",
    "        if len(candidates) == 0:\n",
    "            return []\n",
    "        \n",
    "        distances = cdist([query], candidates, metric='euclidean')[0]\n",
    "        nearest_indices = np.argsort(distances)[:top_k]\n",
    "        return [candidates[i] for i in nearest_indices]\n",
    "    \n",
    "    def plot_cluster_distribution(self):\n",
    "        cluster_sizes = [len(self.inverted_index[i]) for i in range(self.k)]\n",
    "        plt.bar(range(self.k), cluster_sizes)\n",
    "        plt.xlabel(\"Cluster ID\")\n",
    "        plt.ylabel(\"Number of Points\")\n",
    "        plt.title(\"Cluster Distribution\")\n",
    "        plt.show()"
   ]
  },
  {
   "cell_type": "markdown",
   "metadata": {},
   "source": [
    "#### `Task 2`: Perform image to image retrieval again and report the metrics for different value of nprobe."
   ]
  },
  {
   "cell_type": "code",
   "execution_count": null,
   "metadata": {},
   "outputs": [],
   "source": []
  },
  {
   "cell_type": "markdown",
   "metadata": {},
   "source": [
    "#### `Task 3`: Plot the number of points in each cluster. Plot the average number of comparisons done for each query vs nprobe"
   ]
  },
  {
   "cell_type": "code",
   "execution_count": null,
   "metadata": {},
   "outputs": [],
   "source": []
  },
  {
   "cell_type": "markdown",
   "metadata": {},
   "source": [
    "## 3.4 Analysis"
   ]
  },
  {
   "cell_type": "code",
   "execution_count": null,
   "metadata": {},
   "outputs": [],
   "source": []
  }
 ],
 "metadata": {
  "kernelspec": {
   "display_name": "smai",
   "language": "python",
   "name": "python3"
  },
  "language_info": {
   "codemirror_mode": {
    "name": "ipython",
    "version": 3
   },
   "file_extension": ".py",
   "mimetype": "text/x-python",
   "name": "python",
   "nbconvert_exporter": "python",
   "pygments_lexer": "ipython3",
   "version": "3.10.16"
  }
 },
 "nbformat": 4,
 "nbformat_minor": 2
}

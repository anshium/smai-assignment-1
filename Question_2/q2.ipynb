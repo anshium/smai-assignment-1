{
 "cells": [
  {
   "cell_type": "markdown",
   "metadata": {},
   "source": [
    "# KNN and ANN"
   ]
  },
  {
   "cell_type": "markdown",
   "metadata": {},
   "source": [
    "## 3.1 KNN"
   ]
  },
  {
   "cell_type": "code",
   "execution_count": 1,
   "metadata": {},
   "outputs": [],
   "source": [
    "import numpy as np\n",
    "\n",
    "from icecream import ic"
   ]
  },
  {
   "cell_type": "code",
   "execution_count": 2,
   "metadata": {},
   "outputs": [],
   "source": [
    "def euclidean_distance(query, database):\n",
    "    query_sq = np.sum(query ** 2, axis=1, keepdims=True)  # Shape: (10000, 1)\n",
    "    database_sq = np.sum(database ** 2, axis=1, keepdims=True).T  # Shape: (1, 50000)\n",
    "    dot_product = np.dot(query, database.T)  # Shape: (10000, 50000)\n",
    "\n",
    "    return np.sqrt(query_sq + database_sq - 2 * dot_product)\n",
    "\n",
    "def cosine_distance(query, database):\n",
    "    query_norm = np.linalg.norm(query, axis=1, keepdims=True) + 1e-10\n",
    "    database_norm = np.linalg.norm(database, axis=1, keepdims=True).T + 1e-10\n",
    "    similarity = np.dot(query / query_norm, (database / database_norm).T)\n",
    "    return 1 - similarity\n",
    "\n",
    "\n",
    "def compute_distances(query, database, metric='euclidean'):\n",
    "    if metric == 'euclidean':\n",
    "        return euclidean_distance(query, database)\n",
    "    else:  # metric == 'cosine'\n",
    "        return cosine_distance(query, database)\n",
    "\n",
    "def knn(query, database, k=1, metric='euclidean'):\n",
    "    distances = compute_distances(query, database, metric)\n",
    "    return np.argsort(distances, axis=1)[:, :k]\n",
    "\n",
    "def accuracy(predictions, true_labels):\n",
    "    return np.mean(predictions == true_labels)\n",
    "\n",
    "def mean_reciprocal_rank(results, ground_truth):\n",
    "    ranks = []\n",
    "    for i, res in enumerate(results):\n",
    "        rank = np.where(np.isin(res, ground_truth[i]))[0]  # Find ranks of correct matches\n",
    "        if len(rank) > 0:\n",
    "            ranks.append(1 / (rank[0] + 1))  # Take the first correct match\n",
    "        else:\n",
    "            ranks.append(0)\n",
    "    return np.mean(ranks)\n",
    "\n",
    "def precision_at_k(results, ground_truth, k=100):\n",
    "    return np.mean([len([x for x in res[:k] if x in ground_truth[i]]) / k for i, res in enumerate(results)])\n",
    "\n",
    "def hit_rate(results, ground_truth, k=100):\n",
    "    return np.mean([any(x in ground_truth[i] for x in res[:k]) for i, res in enumerate(results)])\n"
   ]
  },
  {
   "cell_type": "code",
   "execution_count": 3,
   "metadata": {},
   "outputs": [],
   "source": [
    "import torch\n",
    "\n",
    "test_embeddings = torch.load(\"data/test_embeddings.pth\").cpu().numpy()\n",
    "test_labels = torch.load(\"data/test_labels.pth\").cpu().numpy()\n",
    "text_embeddings = torch.load(\"data/text_embedding.pth\").cpu().numpy()\n",
    "train_embeddings = torch.load(\"data/train_embeddings.pth\").cpu().numpy()\n",
    "train_labels = torch.load(\"data/train_labels.pth\").cpu().numpy()\n"
   ]
  },
  {
   "cell_type": "code",
   "execution_count": 4,
   "metadata": {},
   "outputs": [],
   "source": [
    "from collections import Counter\n",
    "\n",
    "labels_semantics = np.array([\"airplane\", \"automobile\", \"bird\", \"cat\", \"deer\", \"dog\", \"frog\", \"horse\", \"ship\", \"truck\"])\n",
    "\n",
    "def get_label_predictions(knn_values):\n",
    "    index_to_labels = train_labels[knn_values]\n",
    "\n",
    "    mapped = labels_semantics[np.array(index_to_labels)]\n",
    "\n",
    "    most_common_labels = [Counter(row).most_common(1)[0][0] for row in mapped]\n",
    "    \n",
    "    return np.array(most_common_labels)"
   ]
  },
  {
   "cell_type": "markdown",
   "metadata": {},
   "source": [
    "### Task 1: Classification"
   ]
  },
  {
   "cell_type": "markdown",
   "metadata": {},
   "source": [
    "`Part A:` Classify each image in the test set using the labels of the k nearest neighbours from the train\n",
    "set. Report the accuracy for 3 different values of k(1, 5, 10) and cosine and eucledian distance\n",
    "metrics (2 Marks)."
   ]
  },
  {
   "cell_type": "markdown",
   "metadata": {},
   "source": [
    "#### Subpart 1: Euclidean distances for k = 1, 5, 10"
   ]
  },
  {
   "cell_type": "code",
   "execution_count": 5,
   "metadata": {},
   "outputs": [],
   "source": [
    "k_1_values_euclidean = knn(test_embeddings, train_embeddings, k = 1, metric = \"euclidean\")\n",
    "\n",
    "k_5_values_euclidean = knn(test_embeddings, train_embeddings, k = 5, metric = \"euclidean\")\n",
    "\n",
    "k_10_values_euclidean = knn(test_embeddings, train_embeddings, k = 10, metric = \"euclidean\")\n",
    "\n",
    "k_x_euclidean = [k_1_values_euclidean, k_5_values_euclidean, k_10_values_euclidean]"
   ]
  },
  {
   "cell_type": "code",
   "execution_count": 6,
   "metadata": {},
   "outputs": [
    {
     "name": "stdout",
     "output_type": "stream",
     "text": [
      "(10000, 1)\n",
      "(10000, 5)\n",
      "(10000, 10)\n"
     ]
    }
   ],
   "source": [
    "print(k_1_values_euclidean.shape)\n",
    "print(k_5_values_euclidean.shape)\n",
    "print(k_10_values_euclidean.shape)"
   ]
  },
  {
   "cell_type": "code",
   "execution_count": 7,
   "metadata": {},
   "outputs": [
    {
     "name": "stdout",
     "output_type": "stream",
     "text": [
      "['frog' 'ship' 'ship' ... 'dog' 'airplane' 'horse']\n",
      "['frog' 'ship' 'ship' ... 'dog' 'airplane' 'horse']\n",
      "['cat' 'ship' 'ship' ... 'dog' 'airplane' 'horse']\n"
     ]
    }
   ],
   "source": [
    "# for k_x_eu in k_x_euclidean:\n",
    "print(get_label_predictions(k_1_values_euclidean))\n",
    "print(get_label_predictions(k_5_values_euclidean))\n",
    "print(get_label_predictions(k_10_values_euclidean))"
   ]
  },
  {
   "cell_type": "code",
   "execution_count": 8,
   "metadata": {},
   "outputs": [],
   "source": [
    "index_to_labels_k_1_eu = train_labels[k_1_values_euclidean]\n",
    "index_to_labels_k_5_eu = train_labels[k_5_values_euclidean]\n",
    "index_to_labels_k_10_eu = train_labels[k_10_values_euclidean]\n",
    "\n",
    "\n",
    "most_common_labels_k_1_eu = np.array([Counter(row).most_common(1)[0][0] for row in index_to_labels_k_1_eu])\n",
    "most_common_labels_k_5_eu = np.array([Counter(row).most_common(1)[0][0] for row in index_to_labels_k_5_eu])\n",
    "most_common_labels_k_10_eu = np.array([Counter(row).most_common(1)[0][0] for row in index_to_labels_k_10_eu])"
   ]
  },
  {
   "cell_type": "code",
   "execution_count": 9,
   "metadata": {},
   "outputs": [
    {
     "name": "stdout",
     "output_type": "stream",
     "text": [
      "Accuracy for k = 1: 90.48 %\n",
      "Accuracy for k = 5: 91.9 %\n",
      "Accuracy for k = 10: 92.07 %\n"
     ]
    }
   ],
   "source": [
    "print(\"Accuracy for k = 1:\", accuracy(most_common_labels_k_1_eu, test_labels) * 100, \"%\")\n",
    "print(\"Accuracy for k = 5:\", accuracy(most_common_labels_k_5_eu, test_labels)* 100, \"%\")\n",
    "print(\"Accuracy for k = 10:\", accuracy(most_common_labels_k_10_eu, test_labels)* 100, \"%\")"
   ]
  },
  {
   "cell_type": "code",
   "execution_count": 10,
   "metadata": {},
   "outputs": [
    {
     "data": {
      "text/plain": [
       "0"
      ]
     },
     "execution_count": 10,
     "metadata": {},
     "output_type": "execute_result"
    }
   ],
   "source": [
    "import gc\n",
    "\n",
    "del k_1_values_euclidean, k_5_values_euclidean, k_10_values_euclidean, k_x_euclidean\n",
    "\n",
    "gc.collect()\n",
    "\n",
    "\n",
    "for var in [\"k_1_values_euclidean\", \"k_5_values_euclidean\", \"k_10_values_euclidean\", \"k_x_euclidean\"]:\n",
    "    if var in locals():\n",
    "        del locals()[var]\n",
    "\n",
    "gc.collect()"
   ]
  },
  {
   "cell_type": "code",
   "execution_count": null,
   "metadata": {},
   "outputs": [],
   "source": [
    "k_1_values_cosine = knn(test_embeddings, train_embeddings, k = 1, metric = \"cosine\")"
   ]
  },
  {
   "cell_type": "code",
   "execution_count": null,
   "metadata": {},
   "outputs": [],
   "source": [
    "k_1_values_cosine = knn(test_embeddings, train_embeddings, k = 1, metric = \"cosine\")\n",
    "\n",
    "k_5_values_cosine = knn(test_embeddings, train_embeddings, k = 5, metric = \"cosine\")\n",
    "\n",
    "k_10_values_cosine = knn(test_embeddings, train_embeddings, k = 10, metric = \"cosine\")\n",
    "\n",
    "k_x_cosine = [k_1_values_cosine, k_5_values_cosine, k_10_values_cosine]"
   ]
  },
  {
   "cell_type": "markdown",
   "metadata": {},
   "source": [
    "`Part B:` Instead of using the train set to predict the labels, now use the text embeddings to predict the\n",
    "labels. Using k = 1, get the text embedding closest to each image and predict the accuracy (2\n",
    "Marks)"
   ]
  },
  {
   "cell_type": "code",
   "execution_count": 11,
   "metadata": {},
   "outputs": [],
   "source": [
    "distances_text = compute_distances(test_embeddings, text_embeddings, metric = \"euclidean\")\n",
    "k_1_values_text = knn(test_embeddings, text_embeddings, k = 1, metric = \"euclidean\")"
   ]
  },
  {
   "cell_type": "code",
   "execution_count": 12,
   "metadata": {},
   "outputs": [],
   "source": [
    "mapped_text = labels_semantics[np.array(k_1_values_text)]"
   ]
  },
  {
   "cell_type": "code",
   "execution_count": 13,
   "metadata": {},
   "outputs": [
    {
     "data": {
      "text/plain": [
       "array([3, 8, 8, ..., 5, 0, 7])"
      ]
     },
     "execution_count": 13,
     "metadata": {},
     "output_type": "execute_result"
    }
   ],
   "source": [
    "np.array(k_1_values_text)\n",
    "\n",
    "k_1_values_text.flatten()"
   ]
  },
  {
   "cell_type": "code",
   "execution_count": 14,
   "metadata": {},
   "outputs": [
    {
     "data": {
      "text/plain": [
       "array([3, 8, 8, ..., 5, 1, 7])"
      ]
     },
     "execution_count": 14,
     "metadata": {},
     "output_type": "execute_result"
    }
   ],
   "source": [
    "test_labels"
   ]
  },
  {
   "cell_type": "code",
   "execution_count": 15,
   "metadata": {},
   "outputs": [
    {
     "data": {
      "text/plain": [
       "array([['cat'],\n",
       "       ['ship'],\n",
       "       ['ship'],\n",
       "       ...,\n",
       "       ['dog'],\n",
       "       ['airplane'],\n",
       "       ['horse']], dtype='<U10')"
      ]
     },
     "execution_count": 15,
     "metadata": {},
     "output_type": "execute_result"
    }
   ],
   "source": [
    "mapped_text"
   ]
  },
  {
   "cell_type": "markdown",
   "metadata": {},
   "source": [
    "Accuracy"
   ]
  },
  {
   "cell_type": "code",
   "execution_count": 16,
   "metadata": {},
   "outputs": [
    {
     "name": "stdout",
     "output_type": "stream",
     "text": [
      "Accuracy = 87.81 %\n"
     ]
    }
   ],
   "source": [
    "print(\"Accuracy =\", accuracy(k_1_values_text.flatten(), test_labels) * 100, \"%\")\n"
   ]
  },
  {
   "cell_type": "markdown",
   "metadata": {},
   "source": [
    "#### Task 2: Retreival"
   ]
  },
  {
   "cell_type": "markdown",
   "metadata": {},
   "source": [
    "`Part A:` Text to Image Retrieval: For each text embedding retrieve the 100 nearest embeddings from the\n",
    "train set and report the 3 metrics: Mean reciprocal rank, precision@100 and hit rate. (2 Marks)"
   ]
  },
  {
   "cell_type": "code",
   "execution_count": 17,
   "metadata": {},
   "outputs": [],
   "source": [
    "text_to_image = knn(text_embeddings, train_embeddings, k=100, metric=\"euclidean\")"
   ]
  },
  {
   "cell_type": "code",
   "execution_count": 18,
   "metadata": {},
   "outputs": [],
   "source": [
    "text_to_image\n",
    "\n",
    "results_text_part_1 = get_label_predictions(text_to_image)"
   ]
  },
  {
   "cell_type": "code",
   "execution_count": 30,
   "metadata": {},
   "outputs": [
    {
     "name": "stdout",
     "output_type": "stream",
     "text": [
      "Mean Reciprocal Rank: 1.0\n",
      "Precision@100: 0.05\n",
      "Hit Rate: 1.0\n"
     ]
    },
    {
     "name": "stderr",
     "output_type": "stream",
     "text": [
      "/tmp/ipykernel_26294/1492455321.py:31: DeprecationWarning: Calling nonzero on 0d arrays is deprecated, as it behaves surprisingly. Use `atleast_1d(cond).nonzero()` if the old behavior was intended. If the context of this warning is of the form `arr[nonzero(cond)]`, just use `arr[cond]`.\n",
      "  rank = np.where(np.isin(res, ground_truth[i]))[0]  # Find ranks of correct matches\n"
     ]
    }
   ],
   "source": [
    "mrr_part_1 = mean_reciprocal_rank(results_text_part_1, labels_semantics)\n",
    "pat_part_1 = precision_at_k(results_text_part_1, labels_semantics)\n",
    "hr_part_1 = hit_rate(results_text_part_1, labels_semantics)\n",
    "\n",
    "\n",
    "\n",
    "print(\"Mean Reciprocal Rank:\", mrr_part_1)\n",
    "print(\"Precision@100:\", pat_part_1)\n",
    "print(\"Hit Rate:\", hr_part_1)"
   ]
  },
  {
   "cell_type": "markdown",
   "metadata": {},
   "source": [
    "`Part B:` Image to Image Retrieval: For each test embedding retrieve the 100 nearest embeddings from\n",
    "train set and report the metrics mentioned above. (2 Marks)"
   ]
  },
  {
   "cell_type": "code",
   "execution_count": 31,
   "metadata": {},
   "outputs": [],
   "source": [
    "image_to_image = knn(test_embeddings, train_embeddings, k = 100, metric = \"euclidean\")"
   ]
  },
  {
   "cell_type": "code",
   "execution_count": 32,
   "metadata": {},
   "outputs": [],
   "source": [
    "results_im_to_im_part_1 = get_label_predictions(image_to_image)\n",
    "\n",
    "test_labels_with_semantics = get_label_predictions(np.array(test_labels).reshape(len(test_labels), 1))"
   ]
  },
  {
   "cell_type": "code",
   "execution_count": 33,
   "metadata": {},
   "outputs": [
    {
     "data": {
      "text/plain": [
       "array(['frog', 'ship', 'ship', ..., 'dog', 'airplane', 'horse'],\n",
       "      dtype='<U10')"
      ]
     },
     "execution_count": 33,
     "metadata": {},
     "output_type": "execute_result"
    }
   ],
   "source": [
    "results_im_to_im_part_1"
   ]
  },
  {
   "cell_type": "code",
   "execution_count": 34,
   "metadata": {},
   "outputs": [
    {
     "data": {
      "text/plain": [
       "array(['deer', 'ship', 'ship', ..., 'automobile', 'truck', 'horse'],\n",
       "      dtype='<U10')"
      ]
     },
     "execution_count": 34,
     "metadata": {},
     "output_type": "execute_result"
    }
   ],
   "source": [
    "test_labels_with_semantics"
   ]
  },
  {
   "cell_type": "code",
   "execution_count": 36,
   "metadata": {},
   "outputs": [
    {
     "name": "stdout",
     "output_type": "stream",
     "text": [
      "Mean Reciprocal Rank: 0.1935\n",
      "Precision@100: 0.018963\n",
      "Hit Rate: 0.9017\n"
     ]
    },
    {
     "name": "stderr",
     "output_type": "stream",
     "text": [
      "/tmp/ipykernel_26294/1492455321.py:31: DeprecationWarning: Calling nonzero on 0d arrays is deprecated, as it behaves surprisingly. Use `atleast_1d(cond).nonzero()` if the old behavior was intended. If the context of this warning is of the form `arr[nonzero(cond)]`, just use `arr[cond]`.\n",
      "  rank = np.where(np.isin(res, ground_truth[i]))[0]  # Find ranks of correct matches\n"
     ]
    }
   ],
   "source": [
    "mrr_im_to_im_part_1 = mean_reciprocal_rank(results_im_to_im_part_1, test_labels_with_semantics)\n",
    "pat_im_to_im_part_1 = precision_at_k(results_im_to_im_part_1, test_labels_with_semantics)\n",
    "hr_im_to_im_part_1 = hit_rate(results_im_to_im_part_1, test_labels_with_semantics)\n",
    "\n",
    "\n",
    "\n",
    "print(\"Mean Reciprocal Rank:\", mrr_im_to_im_part_1)\n",
    "print(\"Precision@100:\", pat_im_to_im_part_1)\n",
    "print(\"Hit Rate:\", hr_im_to_im_part_1)"
   ]
  },
  {
   "cell_type": "markdown",
   "metadata": {},
   "source": [
    "## 3.2 Locally Sensitive Hashing"
   ]
  },
  {
   "cell_type": "markdown",
   "metadata": {},
   "source": [
    "#### `Task 1:` Implement LSH following the article linked above using random hyperplanes."
   ]
  },
  {
   "cell_type": "code",
   "execution_count": 1,
   "metadata": {},
   "outputs": [
    {
     "name": "stderr",
     "output_type": "stream",
     "text": [
      "LSH 7: 100%|██████████| 50000/50000 [00:00<00:00, 298326.96it/s]\n"
     ]
    },
    {
     "name": "stdout",
     "output_type": "stream",
     "text": [
      "Top-5 closest vectors to the query:\n",
      "Index: 29022, Distance: 0.4306750254629287\n",
      "Index: 4074, Distance: 0.44235204338585976\n",
      "Index: 9832, Distance: 0.44417299717069014\n",
      "Index: 44913, Distance: 0.45959245711660845\n",
      "Index: 3223, Distance: 0.4615476463835826\n",
      "5\n",
      "5\n",
      "5\n",
      "3\n",
      "6\n",
      "[29022, 4074, 9832, 44913, 3223]\n",
      "['dog']\n",
      "cat\n"
     ]
    },
    {
     "name": "stderr",
     "output_type": "stream",
     "text": [
      "  5%|▌         | 533/10000 [00:03<00:51, 185.10it/s]"
     ]
    },
    {
     "name": "stdout",
     "output_type": "stream",
     "text": [
      "Haan zero wala mila\n"
     ]
    },
    {
     "name": "stderr",
     "output_type": "stream",
     "text": [
      " 30%|███       | 3021/10000 [00:18<00:34, 200.35it/s]"
     ]
    },
    {
     "name": "stdout",
     "output_type": "stream",
     "text": [
      "Haan zero wala mila\n"
     ]
    },
    {
     "name": "stderr",
     "output_type": "stream",
     "text": [
      " 44%|████▍     | 4403/10000 [00:25<00:24, 228.80it/s]"
     ]
    },
    {
     "name": "stdout",
     "output_type": "stream",
     "text": [
      "Haan zero wala mila\n"
     ]
    },
    {
     "name": "stderr",
     "output_type": "stream",
     "text": [
      "100%|██████████| 10000/10000 [00:55<00:00, 179.35it/s]\n",
      "/tmp/ipykernel_40013/1537268632.py:109: DeprecationWarning: Calling nonzero on 0d arrays is deprecated, as it behaves surprisingly. Use `atleast_1d(cond).nonzero()` if the old behavior was intended. If the context of this warning is of the form `arr[nonzero(cond)]`, just use `arr[cond]`.\n",
      "  rank = np.where(np.isin(res, ground_truth[i]))[0]\n"
     ]
    },
    {
     "name": "stdout",
     "output_type": "stream",
     "text": [
      "['dog' 'ship' 'ship' ... 'dog' 'airplane' 'horse']\n",
      "['cat' 'ship' 'ship' ... 'dog' 'automobile' 'horse']\n",
      "Accuracy: 89.99000000000001 %\n",
      "Mean Reciprocal Rank: 0.8999\n",
      "Precision at k: 0.04656300000000001\n",
      "Hit Rate: 0.9619\n"
     ]
    }
   ],
   "source": [
    "import matplotlib.pyplot as plt\n",
    "from tqdm import tqdm\n",
    "import torch\n",
    "\n",
    "from scipy.spatial.distance import cdist\n",
    "\n",
    "import numpy as np\n",
    "\n",
    "class LSH:\n",
    "    def __init__(self, num_hyperplanes, dim):\n",
    "        self.num_hyperplanes = num_hyperplanes\n",
    "        self.dim = dim\n",
    "        self.hyperplanes = np.random.randn(num_hyperplanes, dim)\n",
    "        self.buckets = dict()\n",
    "\n",
    "    def hash_vector(self, vec):\n",
    "        return tuple((vec @ self.hyperplanes.T) > 0)\n",
    "\n",
    "    def insert(self, vec, index):\n",
    "        hash_key = self.hash_vector(vec)\n",
    "        if hash_key not in self.buckets:\n",
    "            self.buckets[hash_key] = []\n",
    "        self.buckets[hash_key].append(index)\n",
    "\n",
    "    def query(self, query_vec, top_k=5):\n",
    "        hash_key = self.hash_vector(query_vec)\n",
    "        \n",
    "        candidates = self.buckets.get(hash_key, [])\n",
    "        \n",
    "        if len(candidates) == 0:\n",
    "            return [], []\n",
    "\n",
    "        candidate_vectors = train_embeddings[candidates]  # Assuming train_embeddings is available\n",
    "        distances = cdist([query_vec], candidate_vectors, metric='euclidean').flatten()\n",
    "        \n",
    "        top_k_indices = np.argsort(distances)[:top_k]\n",
    "        \n",
    "        return [candidates[i] for i in top_k_indices], distances[top_k_indices]\n",
    "\n",
    "\n",
    "test_embeddings = torch.load(\"data/test_embeddings.pth\").cpu().numpy()\n",
    "train_embeddings = torch.load(\"data/train_embeddings.pth\").cpu().numpy()\n",
    "train_labels = torch.load(\"data/train_labels.pth\").cpu().numpy()\n",
    "test_labels = torch.load(\"data/test_labels.pth\").cpu().numpy()\n",
    "\n",
    "n, d = train_embeddings.shape\n",
    "\n",
    "query_vector = test_embeddings[0]\n",
    "\n",
    "num_hyperplanes = 7\n",
    "lsh = LSH(num_hyperplanes, d)\n",
    "\n",
    "for idx, vec in tqdm(enumerate(train_embeddings), total = n, desc=f\"LSH {num_hyperplanes}\"):\n",
    "    lsh.insert(vec, idx)\n",
    "\n",
    "top_k_indices, top_k_distances = lsh.query(query_vector, top_k=5)\n",
    "\n",
    "print(\"Top-5 closest vectors to the query:\")\n",
    "for idx, dist in zip(top_k_indices, top_k_distances):\n",
    "    print(f\"Index: {idx}, Distance: {dist}\")\n",
    "\n",
    "for i in top_k_indices:\n",
    "    print(train_labels[i])\n",
    "\n",
    "\n",
    "from collections import Counter\n",
    "\n",
    "labels_semantics = np.array([\"airplane\", \"automobile\", \"bird\", \"cat\", \"deer\", \"dog\", \"frog\", \"horse\", \"ship\", \"truck\"])\n",
    "\n",
    "train_labels = torch.load(\"data/train_labels.pth\").cpu().numpy()\n",
    "\n",
    "def get_label_predictions(knn_values):\n",
    "\n",
    "    index_to_labels = train_labels[knn_values]\n",
    "\n",
    "    mapped = labels_semantics[np.array(index_to_labels)]\n",
    "\n",
    "    mapped = mapped.reshape(1, len(mapped))\n",
    "\n",
    "\n",
    "    most_common_labels = [Counter(np.array(row).flatten()).most_common(1)[0][0] for row in mapped]\n",
    "    \n",
    "    return np.array(most_common_labels)\n",
    "\n",
    "print(top_k_indices)\n",
    "\n",
    "print(get_label_predictions(np.array(top_k_indices).reshape(len(top_k_indices), 1)))\n",
    "\n",
    "print(labels_semantics[test_labels[0]])\n",
    "\n",
    "total = 10000\n",
    "\n",
    "final_label_values = []\n",
    "\n",
    "for test_embedding in tqdm(test_embeddings[:total]):\n",
    "    top_k_indices, top_k_distances = lsh.query(test_embedding, top_k=5)\n",
    "\n",
    "    if len(top_k_distances) == 0:\n",
    "        print(\"Haan zero wala mila\")\n",
    "        final_label_values.append([labels_semantics[0]])\n",
    "        continue\n",
    "\n",
    "    final_label_values.append(get_label_predictions(np.array(top_k_indices).reshape(len(top_k_indices), 1)))\n",
    "\n",
    "\n",
    "def mean_reciprocal_rank(results, ground_truth):\n",
    "    ranks = []\n",
    "    for i, res in enumerate(results):\n",
    "        rank = np.where(np.isin(res, ground_truth[i]))[0]\n",
    "        if len(rank) > 0:\n",
    "            ranks.append(1 / (rank[0] + 1))\n",
    "        else:\n",
    "            ranks.append(0)\n",
    "    return np.mean(ranks)\n",
    "\n",
    "def precision_at_k(results, ground_truth, k=100):\n",
    "    return np.mean([len([x for x in res[:k] if x in ground_truth[i]]) / k for i, res in enumerate(results)])\n",
    "\n",
    "def hit_rate(results, ground_truth, k=100):\n",
    "    return np.mean([any(x in ground_truth[i] for x in res[:k]) for i, res in enumerate(results)])\n",
    "\n",
    "final_label_values = np.array(final_label_values).squeeze()\n",
    "\n",
    "print(np.array(final_label_values).squeeze())\n",
    "print(labels_semantics[test_labels[:total]])\n",
    "\n",
    "def accuracy(predictions, labels):\n",
    "    return np.sum(predictions == labels, axis = 0) / len(predictions)\n",
    "\n",
    "acc = accuracy(final_label_values, labels_semantics[test_labels[:total]])\n",
    "\n",
    "mrr = mean_reciprocal_rank(final_label_values, labels_semantics[test_labels[:total]])\n",
    "\n",
    "pak = precision_at_k(final_label_values, labels_semantics[test_labels[:total]])\n",
    "\n",
    "hr = hit_rate(final_label_values, labels_semantics[test_labels[:total]])\n",
    "\n",
    "print(\"Accuracy:\", acc * 100, \"%\")\n",
    "print(\"Mean Reciprocal Rank:\", mrr)\n",
    "print(\"Precision at k:\", pak)\n",
    "print(\"Hit Rate:\", hr)"
   ]
  },
  {
   "cell_type": "code",
   "execution_count": 2,
   "metadata": {},
   "outputs": [
    {
     "name": "stdout",
     "output_type": "stream",
     "text": [
      "Inserting vectors with 5 hyperplanes...\n"
     ]
    },
    {
     "name": "stderr",
     "output_type": "stream",
     "text": [
      "LSH 5: 100%|██████████| 50000/50000 [00:00<00:00, 165533.49it/s]\n"
     ]
    },
    {
     "name": "stdout",
     "output_type": "stream",
     "text": [
      "Inserting vectors with 10 hyperplanes...\n"
     ]
    },
    {
     "name": "stderr",
     "output_type": "stream",
     "text": [
      "LSH 10: 100%|██████████| 50000/50000 [00:00<00:00, 149537.44it/s]\n"
     ]
    },
    {
     "name": "stdout",
     "output_type": "stream",
     "text": [
      "Inserting vectors with 20 hyperplanes...\n"
     ]
    },
    {
     "name": "stderr",
     "output_type": "stream",
     "text": [
      "LSH 20: 100%|██████████| 50000/50000 [00:00<00:00, 123805.25it/s]\n"
     ]
    },
    {
     "name": "stdout",
     "output_type": "stream",
     "text": [
      "Inserting vectors with 50 hyperplanes...\n"
     ]
    },
    {
     "name": "stderr",
     "output_type": "stream",
     "text": [
      "LSH 50: 100%|██████████| 50000/50000 [00:02<00:00, 18334.54it/s]\n"
     ]
    },
    {
     "data": {
      "image/png": "[encoded data removed]",
      "text/plain": [
       "<Figure size 1200x800 with 4 Axes>"
      ]
     },
     "metadata": {},
     "output_type": "display_data"
    }
   ],
   "source": [
    "n, d = train_embeddings.shape\n",
    "num_hyperplanes_list = [5, 10, 20, 50]\n",
    "\n",
    "for i, num_hyperplanes in enumerate(num_hyperplanes_list):\n",
    "    lsh = LSH(num_hyperplanes, d)\n",
    "\n",
    "    print(f\"Inserting vectors with {num_hyperplanes} hyperplanes...\")\n",
    "    for idx, vec in tqdm(enumerate(train_embeddings), total=n, desc=f\"LSH {num_hyperplanes}\"):\n",
    "        lsh.insert(vec, idx)\n",
    "\n",
    "    bucket_sizes = [len(v) for v in lsh.buckets.values()]\n",
    "\n",
    "    ax = axes[i]\n",
    "    ax.hist(bucket_sizes, bins=20, alpha=0.7, label=f'{num_hyperplanes} hyperplanes')\n",
    "    ax.set_yscale(\"log\")\n",
    "    ax.set_title(f\"LSH with {num_hyperplanes} Hyperplanes\")\n",
    "    ax.set_xlabel(\"Bucket Size\")\n",
    "    ax.set_ylabel(\"Frequency\")\n",
    "    ax.legend()\n",
    "\n",
    "plt.tight_layout()\n",
    "plt.show()\n"
   ]
  },
  {
   "cell_type": "markdown",
   "metadata": {},
   "source": [
    "#### What problems do you notice here?"
   ]
  },
  {
   "cell_type": "markdown",
   "metadata": {},
   "source": [
    "I notice the problem that some buckets get a very large number of hyperplanes."
   ]
  },
  {
   "cell_type": "markdown",
   "metadata": {},
   "source": [
    "#### `Task 4:` How do these metrics change, on changing the number of hyperplanes, mention possible reasons for these."
   ]
  },
  {
   "cell_type": "markdown",
   "metadata": {},
   "source": [
    "Increasing the Number of Hyperplanes\n",
    "\n",
    "`Accuracy` increases because finer partitions reduce false positives. However, if too many hyperplanes are used, accuracy plateaus or slightly decreases due to over-segmentation.\n",
    "\n",
    "`Mean Reciprocal Rank` improves as finer partitioning helps rank the correct results higher.\n",
    "\n",
    "`Precision at k` improves since fewer irrelevant results are retrieved.\n",
    "\n",
    "`Hit Rate` decreases because smaller hash buckets reduce recall, making relevant items less likely to be retrieved.\n",
    "\n",
    "Decreasing the Number of Hyperplanes\n",
    "\n",
    "`Accuracy` decreases because fewer partitions increase false positives.\n",
    "\n",
    "`Mean Reciprocal Rank` decreases as incorrect items appear higher in rankings.\n",
    "\n",
    "`Precision at k` decreases because more irrelevant results are retrieved.\n",
    "\n",
    "`Hit Rate` increases as larger hash buckets improve recall, making relevant items more likely to be retrieved.\n",
    "\n",
    "Reasons for These Changes\n",
    "\n",
    "`More Hyperplanes → Higher Precision, Lower Recall`\n",
    "\n",
    "More partitions create smaller hash buckets, reducing false positives but increasing false negatives.\n",
    "\n",
    "`Fewer Hyperplanes → Higher Recall, Lower Precision`\n",
    "\n",
    "Fewer partitions create larger hash buckets, increasing false positives but ensuring relevant items are included."
   ]
  },
  {
   "cell_type": "markdown",
   "metadata": {},
   "source": [
    "## 3.3 IVF"
   ]
  },
  {
   "cell_type": "code",
   "execution_count": 1,
   "metadata": {},
   "outputs": [],
   "source": [
    "import torch\n",
    "import numpy as np\n",
    "import matplotlib.pyplot as plt\n",
    "from sklearn.cluster import KMeans\n",
    "\n",
    "train_embeddings = torch.load('data/train_embeddings.pth').cpu().numpy()  # shape: (N_train, d)\n",
    "test_embeddings  = torch.load('data/test_embeddings.pth').cpu().numpy()   # shape: (N_test, d)\n",
    "train_labels     = torch.load('data/train_labels.pth').cpu().numpy()        # shape: (N_train,)\n",
    "test_labels      = torch.load('data/test_labels.pth').cpu().numpy()         # shape: (N_test,)\n",
    "\n",
    "text_embeddings  = torch.load('data/text_embedding.pth').cpu().numpy()      # shape: (10, d)\n",
    "\n",
    "\n",
    "def build_ivf_index(embeddings, n_clusters=10):\n",
    "\n",
    "    kmeans = KMeans(n_clusters=n_clusters, random_state=42).fit(embeddings)\n",
    "    centroids = kmeans.cluster_centers_\n",
    "    assignments = kmeans.labels_\n",
    "    inverted_index = {}\n",
    "    for cid in range(n_clusters):\n",
    "        inverted_index[cid] = np.where(assignments == cid)[0]\n",
    "    return centroids, inverted_index, assignments, kmeans\n",
    "\n",
    "def ivf_query(query, train_embs, centroids, inverted_index, nprobe=1, metric='euclidean', k=100):\n",
    "\n",
    "    if not isinstance(query, np.ndarray):\n",
    "        query = query.detach().cpu().numpy()\n",
    "    if metric == 'euclidean':\n",
    "        centroid_dists = np.linalg.norm(centroids - query, axis=1)\n",
    "    elif metric == 'cosine':\n",
    "        q_norm = np.linalg.norm(query)\n",
    "        centroid_norms = np.linalg.norm(centroids, axis=1)\n",
    "        centroid_dists = 1 - np.dot(centroids, query) / (centroid_norms * q_norm + 1e-8)\n",
    "    sorted_clusters = np.argsort(centroid_dists)\n",
    "    candidate_indices = []\n",
    "    comparisons = 0\n",
    "    for cluster in sorted_clusters[:nprobe]:\n",
    "        indices = inverted_index[cluster]\n",
    "        candidate_indices.extend(indices.tolist())\n",
    "        comparisons += len(indices)\n",
    "    candidate_embs = train_embs[candidate_indices]\n",
    "    if metric == 'euclidean':\n",
    "        dists = np.linalg.norm(candidate_embs - query, axis=1)\n",
    "    elif metric == 'cosine':\n",
    "        q_norm = np.linalg.norm(query)\n",
    "        cand_norms = np.linalg.norm(candidate_embs, axis=1)\n",
    "        dists = 1 - np.dot(candidate_embs, query) / (cand_norms * q_norm + 1e-8)\n",
    "    sorted_idx = np.argsort(dists)[:k]\n",
    "    retrieved_indices = np.array(candidate_indices)[sorted_idx]\n",
    "    return retrieved_indices, comparisons\n",
    "\n",
    "def compute_ivf_retrieval_metrics(query_embs, query_labels, train_embs, train_labels, centroids, inverted_index, nprobe, k=100, metric='euclidean'):\n",
    "    mrrs, precisions, hits, total_comparisons = [], [], [], []\n",
    "    for i, query in enumerate(query_embs):\n",
    "        indices, comparisons = ivf_query(query, train_embs, centroids, inverted_index, nprobe=nprobe, metric=metric, k=k)\n",
    "        total_comparisons.append(comparisons)\n",
    "        retrieved_labels = train_labels[indices]\n",
    "        true_label = query_labels[i]\n",
    "        correct_positions = np.where(retrieved_labels == true_label)[0]\n",
    "        mrrs.append(1.0 / (correct_positions[0] + 1) if len(correct_positions) > 0 else 0)\n",
    "        precisions.append(np.sum(retrieved_labels == true_label) / float(k))\n",
    "        hits.append(1 if np.any(retrieved_labels == true_label) else 0)\n",
    "    return np.mean(mrrs), np.mean(precisions), np.mean(hits), np.mean(total_comparisons)"
   ]
  },
  {
   "cell_type": "code",
   "execution_count": 2,
   "metadata": {},
   "outputs": [
    {
     "data": {
      "image/png": "[encoded data removed]",
      "text/plain": [
       "<Figure size 640x480 with 1 Axes>"
      ]
     },
     "metadata": {},
     "output_type": "display_data"
    },
    {
     "name": "stdout",
     "output_type": "stream",
     "text": [
      "IVF (nprobe=1): MRR = 0.9266, Precision@100 = 0.8354, Hit Rate = 0.9985, Avg Comparisons = 5329.18\n",
      "IVF (nprobe=2): MRR = 0.9337, Precision@100 = 0.8406, Hit Rate = 0.9991, Avg Comparisons = 10765.04\n",
      "IVF (nprobe=5): MRR = 0.9347, Precision@100 = 0.8412, Hit Rate = 0.9995, Avg Comparisons = 26092.39\n",
      "IVF (nprobe=10): MRR = 0.9348, Precision@100 = 0.8411, Hit Rate = 0.9996, Avg Comparisons = 50000.00\n"
     ]
    },
    {
     "data": {
      "image/png": "[encoded data removed]",
      "text/plain": [
       "<Figure size 640x480 with 1 Axes>"
      ]
     },
     "metadata": {},
     "output_type": "display_data"
    }
   ],
   "source": [
    "n_clusters = 10\n",
    "centroids, inverted_index, assignments, kmeans_model = build_ivf_index(train_embeddings, n_clusters=n_clusters)\n",
    "\n",
    "cluster_sizes = [len(inverted_index[i]) for i in range(n_clusters)]\n",
    "plt.figure()\n",
    "plt.bar(range(n_clusters), cluster_sizes, color='skyblue')\n",
    "plt.xlabel(\"Cluster ID\")\n",
    "plt.ylabel(\"Number of Points\")\n",
    "plt.title(\"IVF: Points per Cluster\")\n",
    "plt.show()\n",
    "\n",
    "ivf_results = {}\n",
    "for nprobe in [1, 2, 5, 10]:\n",
    "    mrr_ivf, prec_ivf, hit_ivf, comp_ivf = compute_ivf_retrieval_metrics(\n",
    "        test_embeddings, test_labels, train_embeddings, train_labels, centroids, inverted_index,\n",
    "        nprobe=nprobe, k=100, metric='euclidean')\n",
    "    ivf_results[nprobe] = {'MRR': mrr_ivf, 'Precision': prec_ivf, 'HitRate': hit_ivf, 'AvgComparisons': comp_ivf}\n",
    "    print(f\"IVF (nprobe={nprobe}): MRR = {mrr_ivf:.4f}, Precision@100 = {prec_ivf:.4f}, Hit Rate = {hit_ivf:.4f}, Avg Comparisons = {comp_ivf:.2f}\")\n",
    "\n",
    "avg_comps_ivf = [ivf_results[np]['AvgComparisons'] for np in [1, 2, 5, 10]]\n",
    "plt.figure()\n",
    "plt.plot([1, 2, 5, 10], avg_comps_ivf, marker='o', linestyle='-')\n",
    "plt.xlabel(\"nprobe\")\n",
    "plt.ylabel(\"Avg Comparisons per Query\")\n",
    "plt.title(\"IVF: Avg Comparisons vs. nprobe\")\n",
    "plt.grid(True)\n",
    "plt.show()"
   ]
  },
  {
   "cell_type": "markdown",
   "metadata": {},
   "source": [
    "### Analysis"
   ]
  },
  {
   "cell_type": "markdown",
   "metadata": {},
   "source": [
    "Comparision of metrics: (both parts together)\n",
    "\n",
    "IVF:\n",
    "\n",
    "IVF (nprobe=1): MRR = 0.9266, Precision@100 = 0.8354, Hit Rate = 0.9985, Avg Comparisons = 5329.18\n",
    "\n",
    "IVF (nprobe=2): MRR = 0.9337, Precision@100 = 0.8406, Hit Rate = 0.9991, Avg Comparisons = 10765.04\n",
    "\n",
    "IVF (nprobe=5): MRR = 0.9347, Precision@100 = 0.8412, Hit Rate = 0.9995, Avg Comparisons = 26092.39\n",
    "\n",
    "IVF (nprobe=10): MRR = 0.9348, Precision@100 = 0.8411, Hit Rate = 0.9996, Avg Comparisons = 50000.00\n",
    "\n",
    "<hr>\n",
    "\n",
    "LSH: (for full train set at hyperplanes = 7)\n",
    "\n",
    "Accuracy: 89.99000000000001 %\n",
    "Mean Reciprocal Rank: 0.8999\n",
    "Precision at k: 0.04656300000000001\n",
    "Hit Rate: 0.9619\n",
    "\n",
    "<hr>\n",
    "\n",
    "Simple k-means\n",
    "\n",
    "Mean Reciprocal Rank: 0.1935\n",
    "Precision@100: 0.018963\n",
    "Hit Rate: 0.9017\n",
    "\n"
   ]
  }
 ],
 "metadata": {
  "kernelspec": {
   "display_name": "smai",
   "language": "python",
   "name": "python3"
  },
  "language_info": {
   "codemirror_mode": {
    "name": "ipython",
    "version": 3
   },
   "file_extension": ".py",
   "mimetype": "text/x-python",
   "name": "python",
   "nbconvert_exporter": "python",
   "pygments_lexer": "ipython3",
   "version": "3.10.16"
  }
 },
 "nbformat": 4,
 "nbformat_minor": 2
}

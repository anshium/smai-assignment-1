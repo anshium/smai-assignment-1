{
 "cells": [
  {
   "cell_type": "markdown",
   "metadata": {},
   "source": [
    "# KNN and ANN"
   ]
  },
  {
   "cell_type": "markdown",
   "metadata": {},
   "source": [
    "## 3.1 KNN"
   ]
  },
  {
   "cell_type": "code",
   "execution_count": 3,
   "metadata": {},
   "outputs": [],
   "source": [
    "import numpy as np\n",
    "from sklearn.metrics.pairwise import euclidean_distances, cosine_distances\n",
    "\n",
    "from icecream import ic"
   ]
  },
  {
   "cell_type": "code",
   "execution_count": 4,
   "metadata": {},
   "outputs": [],
   "source": [
    "def compute_distances(query, database, metric='euclidean'):\n",
    "    if metric == 'euclidean':\n",
    "        return euclidean_distances(query, database)\n",
    "    else: # metric == 'cosine':\n",
    "        return cosine_distances(query, database)\n",
    "\n",
    "def knn(query, database, k=1, metric='euclidean'):\n",
    "    distances = compute_distances(query, database, metric)\n",
    "    return np.argsort(distances, axis=1)[:, :k]\n",
    "\n",
    "def accuracy(predictions, true_labels):\n",
    "    return np.mean(predictions == true_labels)\n",
    "\n",
    "def mean_reciprocal_rank(ranks):\n",
    "    return np.mean([1.0 / (rank + 1) for rank in ranks])\n",
    "\n",
    "def precision_at_k(retrieved, relevant, k=100):\n",
    "    return np.mean([len(set(r[:k]) & set(rel)) / k for r, rel in zip(retrieved, relevant)])\n",
    "\n",
    "def hit_rate(retrieved, relevant):\n",
    "    return np.mean([bool(set(r) & set(rel)) for r, rel in zip(retrieved, relevant)])\n"
   ]
  },
  {
   "cell_type": "code",
   "execution_count": 5,
   "metadata": {},
   "outputs": [],
   "source": [
    "import torch\n",
    "\n",
    "test_embeddings = torch.load(\"data/test_embeddings.pth\").cpu().numpy()\n",
    "test_labels = torch.load(\"data/test_labels.pth\").cpu().numpy()\n",
    "text_embeddings = torch.load(\"data/text_embedding.pth\").cpu().numpy()\n",
    "train_embeddings = torch.load(\"data/train_embeddings.pth\").cpu().numpy()\n",
    "train_labels = torch.load(\"data/train_labels.pth\").cpu().numpy()\n"
   ]
  },
  {
   "cell_type": "code",
   "execution_count": 6,
   "metadata": {},
   "outputs": [],
   "source": [
    "from collections import Counter\n",
    "\n",
    "labels_semantics = np.array([\"airplane\", \"automobile\", \"bird\", \"cat\", \"deer\", \"dog\", \"frog\", \"horse\", \"ship\", \"truck\"])\n",
    "\n",
    "def get_label_predictions(knn_values):\n",
    "    index_to_labels = train_labels[knn_values]\n",
    "\n",
    "    mapped = labels_semantics[np.array(index_to_labels)]\n",
    "\n",
    "    most_common_labels = [Counter(row).most_common(1)[0][0] for row in mapped]\n",
    "    \n",
    "    return np.array(most_common_labels)"
   ]
  },
  {
   "cell_type": "markdown",
   "metadata": {},
   "source": [
    "### Task 1: Classification"
   ]
  },
  {
   "cell_type": "markdown",
   "metadata": {},
   "source": [
    "`Part A:` Classify each image in the test set using the labels of the k nearest neighbours from the train\n",
    "set. Report the accuracy for 3 different values of k(1, 5, 10) and cosine and eucledian distance\n",
    "metrics (2 Marks)."
   ]
  },
  {
   "cell_type": "markdown",
   "metadata": {},
   "source": [
    "#### Subpart 1: Euclidean distances for k = 1, 5, 10"
   ]
  },
  {
   "cell_type": "code",
   "execution_count": 8,
   "metadata": {},
   "outputs": [],
   "source": [
    "k_1_values_euclidean = knn(test_embeddings, train_embeddings, k = 1, metric = \"euclidean\")\n",
    "\n",
    "k_5_values_euclidean = knn(test_embeddings, train_embeddings, k = 5, metric = \"euclidean\")\n",
    "\n",
    "k_10_values_euclidean = knn(test_embeddings, train_embeddings, k = 10, metric = \"euclidean\")\n",
    "\n",
    "k_x_euclidean = [k_1_values_euclidean, k_5_values_euclidean, k_10_values_euclidean]"
   ]
  },
  {
   "cell_type": "code",
   "execution_count": 6,
   "metadata": {},
   "outputs": [
    {
     "name": "stdout",
     "output_type": "stream",
     "text": [
      "(10000, 1)\n",
      "(10000, 5)\n",
      "(10000, 10)\n"
     ]
    }
   ],
   "source": [
    "print(k_1_values_euclidean.shape)\n",
    "print(k_5_values_euclidean.shape)\n",
    "print(k_10_values_euclidean.shape)"
   ]
  },
  {
   "cell_type": "code",
   "execution_count": 7,
   "metadata": {},
   "outputs": [
    {
     "name": "stdout",
     "output_type": "stream",
     "text": [
      "['frog' 'ship' 'ship' ... 'dog' 'airplane' 'horse']\n",
      "['frog' 'ship' 'ship' ... 'dog' 'airplane' 'horse']\n",
      "['cat' 'ship' 'ship' ... 'dog' 'airplane' 'horse']\n"
     ]
    }
   ],
   "source": [
    "# for k_x_eu in k_x_euclidean:\n",
    "print(get_label_predictions(k_1_values_euclidean))\n",
    "print(get_label_predictions(k_5_values_euclidean))\n",
    "print(get_label_predictions(k_10_values_euclidean))"
   ]
  },
  {
   "cell_type": "code",
   "execution_count": 8,
   "metadata": {},
   "outputs": [],
   "source": [
    "index_to_labels_k_1_eu = train_labels[k_1_values_euclidean]\n",
    "index_to_labels_k_5_eu = train_labels[k_5_values_euclidean]\n",
    "index_to_labels_k_10_eu = train_labels[k_10_values_euclidean]\n",
    "\n",
    "\n",
    "most_common_labels_k_1_eu = np.array([Counter(row).most_common(1)[0][0] for row in index_to_labels_k_1_eu])\n",
    "most_common_labels_k_5_eu = np.array([Counter(row).most_common(1)[0][0] for row in index_to_labels_k_5_eu])\n",
    "most_common_labels_k_10_eu = np.array([Counter(row).most_common(1)[0][0] for row in index_to_labels_k_10_eu])"
   ]
  },
  {
   "cell_type": "code",
   "execution_count": 9,
   "metadata": {},
   "outputs": [
    {
     "name": "stdout",
     "output_type": "stream",
     "text": [
      "Accuracy for k = 1: 90.48 %\n",
      "Accuracy for k = 5: 91.9 %\n",
      "Accuracy for k = 10: 92.07 %\n"
     ]
    }
   ],
   "source": [
    "print(\"Accuracy for k = 1:\", accuracy(most_common_labels_k_1_eu, test_labels) * 100, \"%\")\n",
    "print(\"Accuracy for k = 5:\", accuracy(most_common_labels_k_5_eu, test_labels)* 100, \"%\")\n",
    "print(\"Accuracy for k = 10:\", accuracy(most_common_labels_k_10_eu, test_labels)* 100, \"%\")"
   ]
  },
  {
   "cell_type": "code",
   "execution_count": null,
   "metadata": {},
   "outputs": [],
   "source": [
    "k_1_values_cosine = knn(test_embeddings, train_embeddings, k = 1, metric = \"cosine\")"
   ]
  },
  {
   "cell_type": "code",
   "execution_count": 10,
   "metadata": {},
   "outputs": [
    {
     "ename": "",
     "evalue": "",
     "output_type": "error",
     "traceback": [
      "\u001b[1;31mThe Kernel crashed while executing code in the current cell or a previous cell. \n",
      "\u001b[1;31mPlease review the code in the cell(s) to identify a possible cause of the failure. \n",
      "\u001b[1;31mClick <a href='https://aka.ms/vscodeJupyterKernelCrash'>here</a> for more info. \n",
      "\u001b[1;31mView Jupyter <a href='command:jupyter.viewOutput'>log</a> for further details."
     ]
    }
   ],
   "source": [
    "k_1_values_cosine = knn(test_embeddings, train_embeddings, k = 1, metric = \"cosine\")\n",
    "\n",
    "k_5_values_cosine = knn(test_embeddings, train_embeddings, k = 5, metric = \"cosine\")\n",
    "\n",
    "k_10_values_cosine = knn(test_embeddings, train_embeddings, k = 10, metric = \"cosine\")\n",
    "\n",
    "k_x_cosine = [k_1_values_cosine, k_5_values_cosine, k_10_values_cosine]"
   ]
  },
  {
   "cell_type": "markdown",
   "metadata": {},
   "source": [
    "`Part B:` Instead of using the train set to predict the labels, now use the text embeddings to predict the\n",
    "labels. Using k = 1, get the text embedding closest to each image and predict the accuracy (2\n",
    "Marks)"
   ]
  },
  {
   "cell_type": "code",
   "execution_count": 10,
   "metadata": {},
   "outputs": [],
   "source": [
    "distances_text = compute_distances(test_embeddings, text_embeddings, metric = \"euclidean\")\n",
    "k_1_values_text = knn(test_embeddings, text_embeddings, k = 1, metric = \"euclidean\")"
   ]
  },
  {
   "cell_type": "code",
   "execution_count": 49,
   "metadata": {},
   "outputs": [],
   "source": [
    "mapped_text = labels_semantics[np.array(k_1_values_text)]"
   ]
  },
  {
   "cell_type": "code",
   "execution_count": 22,
   "metadata": {},
   "outputs": [
    {
     "data": {
      "text/plain": [
       "array([3, 8, 8, ..., 5, 0, 7])"
      ]
     },
     "execution_count": 22,
     "metadata": {},
     "output_type": "execute_result"
    }
   ],
   "source": [
    "np.array(k_1_values_text)\n",
    "\n",
    "k_1_values_text.flatten()"
   ]
  },
  {
   "cell_type": "code",
   "execution_count": 17,
   "metadata": {},
   "outputs": [
    {
     "data": {
      "text/plain": [
       "array([3, 8, 8, ..., 5, 1, 7])"
      ]
     },
     "execution_count": 17,
     "metadata": {},
     "output_type": "execute_result"
    }
   ],
   "source": [
    "test_labels"
   ]
  },
  {
   "cell_type": "code",
   "execution_count": 51,
   "metadata": {},
   "outputs": [
    {
     "data": {
      "text/plain": [
       "array([['cat'],\n",
       "       ['ship'],\n",
       "       ['ship'],\n",
       "       ...,\n",
       "       ['dog'],\n",
       "       ['airplane'],\n",
       "       ['horse']], dtype='<U10')"
      ]
     },
     "execution_count": 51,
     "metadata": {},
     "output_type": "execute_result"
    }
   ],
   "source": [
    "mapped_text"
   ]
  },
  {
   "cell_type": "markdown",
   "metadata": {},
   "source": [
    "Accuracy"
   ]
  },
  {
   "cell_type": "code",
   "execution_count": 25,
   "metadata": {},
   "outputs": [
    {
     "name": "stdout",
     "output_type": "stream",
     "text": [
      "Accuracy = 87.81 %\n"
     ]
    }
   ],
   "source": [
    "print(\"Accuracy =\", accuracy(k_1_values_text.flatten(), test_labels) * 100, \"%\")\n"
   ]
  },
  {
   "cell_type": "markdown",
   "metadata": {},
   "source": [
    "#### Task 2: Retreival"
   ]
  },
  {
   "cell_type": "markdown",
   "metadata": {},
   "source": [
    "`Part A:` Text to Image Retrieval: For each text embedding retrieve the 100 nearest embeddings from the\n",
    "train set and report the 3 metrics: Mean reciprocal rank, precision@100 and hit rate. (2 Marks)"
   ]
  },
  {
   "cell_type": "code",
   "execution_count": 26,
   "metadata": {},
   "outputs": [],
   "source": [
    "text_to_image = knn(text_embeddings, train_embeddings, k=100, metric=\"euclidean\")"
   ]
  },
  {
   "cell_type": "code",
   "execution_count": 28,
   "metadata": {},
   "outputs": [
    {
     "data": {
      "text/plain": [
       "array([[30604, 25082,  5322, 20539, 35283, 47220,  4410, 35873, 27324,\n",
       "        10577, 29341, 10486,  9077, 36427, 47379,  7528, 37032,  2403,\n",
       "        36289, 16497, 23791, 17154,  9657, 19529, 31506, 10741, 24745,\n",
       "        48119, 26144,  3548, 46303, 40635, 11812, 47676, 49863, 41821,\n",
       "        38980, 28401,  1428, 13069, 24587, 19082, 44165, 13841, 18578,\n",
       "        43628,  7095, 32109, 36573, 45507, 16785, 22080, 29844, 44082,\n",
       "        13334, 43475, 44609, 32602, 13835, 13260, 11838, 47104, 48869,\n",
       "          457, 40733, 46770, 17355,  2006, 10548, 22308, 30667, 10202,\n",
       "         6640, 12469, 19277, 36858, 44257, 38185,  7328, 28302, 42288,\n",
       "        46725, 44743, 21633, 37504,  7663, 30914, 41073, 23805, 24325,\n",
       "        16734,  4540, 30959,   733,  5414, 47042, 26776, 35149, 39995,\n",
       "        30971],\n",
       "       [34163, 24486, 18639, 10832, 25061,  3142, 24417, 43251,  1029,\n",
       "        18625, 26141, 10110, 40265,  8729,  3620, 30696, 10564,    64,\n",
       "        35674, 48962,  7597, 39911, 26576, 20119,  6630,  5515, 27238,\n",
       "         4696, 35953, 35783, 19911, 47582, 44474, 27171, 36848, 16997,\n",
       "        18123, 41576, 35041,  8427, 41463, 36872,   815,  7936, 40367,\n",
       "        33615, 16276, 47863, 13040, 40582, 30673,  2389,  8103, 46498,\n",
       "        43988, 16268, 24528, 48322, 49569,  5951, 21984,  6798, 27009,\n",
       "        49658, 12628, 26452, 44246,  3744, 11336, 43145,   330, 40003,\n",
       "        25117, 18134, 39023,  9179, 45399, 34043, 45675, 13149,  4360,\n",
       "        25206, 10370, 24024, 39373, 30792, 34598, 29809, 33762, 41217,\n",
       "        32438, 40822, 43669, 20042, 11696,  9216, 22938,  8189, 38261,\n",
       "        33907],\n",
       "       [29389, 35146, 13955, 21500, 41764, 14840, 25034, 19428, 30325,\n",
       "        11326, 19044, 31562, 47260, 28662, 27825,  6488, 33792, 35734,\n",
       "        25530, 11606, 26568, 27191,   538, 15477, 23414, 33293,  6412,\n",
       "        22676, 23944, 19463, 25939, 18419,  7797,  4237, 14620, 33263,\n",
       "        40900, 26956, 33323,  6477, 18460,  2041, 14739, 47935, 35310,\n",
       "        43593, 42706, 41661, 27492, 25326, 23217, 17834,  8025, 29135,\n",
       "        35718, 12058, 47500, 32057, 49156, 13759,  5576, 39550, 31231,\n",
       "        29374,  9503,  3848, 41894, 42942,  2641, 27743, 15598, 43057,\n",
       "        22168, 47565, 26833, 24706, 46293, 20468,  2340, 32377,  4426,\n",
       "         6296, 36261,  7633, 35955, 47800,  5609, 17769, 23159, 24719,\n",
       "        28377, 17114, 47353, 30542,  5506, 30602, 44495, 46216, 26175,\n",
       "         6177],\n",
       "       [16604, 20571,  6787, 19781, 34185, 15129, 26688, 48062, 27963,\n",
       "        41826, 13349, 27222, 43472,  1546, 23033,  5705, 18187, 11234,\n",
       "        48730, 32794, 30587,  6491, 38383, 10193, 18939, 21017, 42737,\n",
       "        25376, 32982, 17164, 27274, 40558, 10329, 13253, 42133, 24922,\n",
       "        33526, 29200,  8105, 14014, 46886, 27673, 14380, 14253, 48410,\n",
       "        27558, 15362,  5218, 15659, 14938, 45137, 29273, 34517, 29109,\n",
       "         6712, 23266, 43110,  3270, 47788, 22463, 49619, 32583, 26558,\n",
       "        15778,  6574,  3568, 23048, 26707, 33925, 11040, 29084,  7869,\n",
       "        35427,  8467, 35832, 47547,  3188, 23859, 26189,  9694, 20704,\n",
       "        13288, 45192, 18356,  7566, 42779,  8876, 46757, 44267, 47313,\n",
       "        40726, 28058,  9738, 19820, 27641, 30735,  6422, 31463, 38085,\n",
       "        41020],\n",
       "       [ 2990, 13498, 29184, 28388, 30300, 15723,  3538, 47415,  3360,\n",
       "        46241, 47403, 15963,  2691, 44147, 37721, 40424, 26475, 43202,\n",
       "        43718, 31932, 26367, 37923,   876, 22098, 35135,  3077, 13102,\n",
       "        29405, 28799, 32757, 26555, 38376,  6212, 28151, 33499, 33357,\n",
       "        21492, 45571, 42656, 41824, 43502, 32692, 20192,  3314, 39491,\n",
       "        27624, 41625,  5285,  2712, 43950, 19548, 28729, 28414, 34406,\n",
       "         4400, 38730, 19684,  9852,  7676, 41642, 22740, 22192, 10966,\n",
       "        34575, 30790, 46578, 12026, 43386, 21041, 28837, 38794, 15674,\n",
       "        34752, 13212, 49946, 43337,  5625, 32224, 30884, 46251, 24221,\n",
       "        14777, 49740,  8997, 40383, 42059, 39541, 16179, 25941, 19178,\n",
       "         8352,  2734, 24525, 14933, 10925, 27762,  8554, 31579, 22173,\n",
       "        45110],\n",
       "       [39176, 31442, 49720, 45674,  8240, 12246,  3577, 48240, 10515,\n",
       "         1998, 28973, 26354, 48900, 34531, 34180, 33912,  3270, 48730,\n",
       "        24650, 28505, 40940, 26969, 33927, 31190, 19606, 32342, 32425,\n",
       "        48817, 13087, 24153,  8851, 26731, 28796, 40380, 40247, 48422,\n",
       "        48383, 13103,  5098, 24309,  9248,  5448, 23769, 47095,  4890,\n",
       "        48797,  3021, 26399,  4405, 32238,  9948,  2242, 28976, 11375,\n",
       "        48946,  1411, 19972, 10549, 16873, 40269, 41583, 10482, 19856,\n",
       "         5335, 26640, 14791, 19024, 21709, 47977, 16280, 40555,  6519,\n",
       "        43866, 40490, 47333, 26998, 33674, 31782, 25588,  2182, 20562,\n",
       "        42054,  1754, 43433, 30375,  4495, 28217, 46246, 48265, 22021,\n",
       "        29256, 13045,  6455, 33353, 25722, 39580, 23902, 32935, 36782,\n",
       "        31708],\n",
       "       [11823, 17684, 29080, 21747, 19419, 43353, 23087, 26919, 23747,\n",
       "         1552, 17766, 42660, 48771, 15052, 44772, 32500, 21722, 22530,\n",
       "        13123, 20372, 11135,  6537, 16393, 31099,  1531, 42552,  7553,\n",
       "        13455, 44814, 43482, 49853, 12321, 44489, 47096,  6486, 21072,\n",
       "         4234, 14139, 18820,  3435, 41431, 18129, 10704, 23878,  1613,\n",
       "        12081, 34786, 40613, 10097, 42756,  8220, 46791, 28275,  2241,\n",
       "        35098, 35131, 24973, 16337, 42257, 44708, 16404, 31118, 17231,\n",
       "        48361,  2681, 39211, 46835, 18682, 37404, 26829, 28254, 26800,\n",
       "        11726, 20115, 33548,  3139, 30494,  8008,  9045, 30594, 29375,\n",
       "        32781, 40952, 23542,   532, 15060, 11331, 45730, 15823,  8363,\n",
       "         6224, 31812, 37918, 44611,  7267, 19268, 43661, 35830, 10379,\n",
       "         2888],\n",
       "       [45858,  7546,  5313, 21410,  1679, 46875,  2611, 44006, 31082,\n",
       "        20893, 25575,  1369, 40199,  8409, 49198, 22892, 25553, 21482,\n",
       "         6568, 45563,  2139, 23676, 16104, 17256, 48923, 36034, 39726,\n",
       "        38232, 24536, 30617, 41735, 45939, 28264, 11935, 33773, 14363,\n",
       "        24370, 26133, 12994, 24596, 22942,  5753, 35062, 45171,  6655,\n",
       "        25836, 41838,  4254, 16000, 42117, 46098, 44353, 22669, 41381,\n",
       "        21329, 12756,  6734,  6601, 45874, 31482, 39708, 21657, 23236,\n",
       "        49202, 32395, 40251, 44559, 12220, 29158,  9590, 17805,  2000,\n",
       "        11990, 29671, 30825, 36407,  8115, 23710,  5782,  6538, 22806,\n",
       "        39266, 34708, 38057, 13171, 42651, 11065,  1490,  9369,  7961,\n",
       "         1900,  6676, 17040,  8719, 34308, 36820, 11788,   163, 13092,\n",
       "        42478],\n",
       "       [  567, 30860, 18593,  5806, 39032, 20540, 25566, 13004, 22705,\n",
       "        17348, 28396, 33022, 37823, 42835, 20812,  3170,  5091,  1174,\n",
       "        28768,  1357, 10864,  4092, 37437, 38408, 29287,  9063,  8588,\n",
       "        24435, 17962, 30398,  9039,  1862, 20491, 26528, 18693, 24347,\n",
       "        38734, 49134, 41028, 32876,  6995, 36798, 47373, 49025, 38724,\n",
       "        32512, 18367,  7013, 34001, 39069, 39653, 25501, 49876, 10402,\n",
       "        21253, 11978, 21337, 11413, 40276, 49697, 27851,  9786,  8027,\n",
       "         8248,  4432, 29239, 16315, 26214, 17685, 48491,  1688, 17394,\n",
       "        35693,  7149, 43846,  2914, 21157, 15648, 15688, 23568,   280,\n",
       "         4779, 45695, 45868, 10475, 38857,  8399,  4514, 34657, 48534,\n",
       "        40183, 41889, 42617, 24350, 14826, 31981, 30148, 34296, 16520,\n",
       "        46175],\n",
       "       [41427, 23229,  5776, 25159, 26888, 11422, 39731, 26825, 19053,\n",
       "        16720, 16170, 28353, 17973, 45495,  9971, 27694, 49278,  2219,\n",
       "         2767, 45160, 38363, 49460, 20653, 48116, 24048, 14599, 42191,\n",
       "        47081, 12187, 25112, 38961,  7920, 49534, 15809, 26585, 49284,\n",
       "        11316, 13809, 13867,  5306, 25507, 19290, 42244, 47435, 10246,\n",
       "        35085, 22013, 23846, 21300,  3974, 33075, 22694, 46559,  8716,\n",
       "        25837, 19722, 15350, 34975, 12405, 30899, 37387, 35852, 46662,\n",
       "         4704, 20947, 32072, 48963, 14847,  3602, 22285, 39250, 32766,\n",
       "        20634,  2829, 10829, 19992, 23111, 17896, 14278,  4913,  7854,\n",
       "        40474, 40915, 38132, 14990, 49194, 32254,  6693, 47002, 41054,\n",
       "        45198, 29551,  6360,  2024,  4246, 37017, 47405, 44952, 18692,\n",
       "        40072]])"
      ]
     },
     "execution_count": 28,
     "metadata": {},
     "output_type": "execute_result"
    }
   ],
   "source": [
    "text_to_image"
   ]
  },
  {
   "cell_type": "markdown",
   "metadata": {},
   "source": [
    "`Part B:` Image to Image Retrieval: For each test embedding retrieve the 100 nearest embeddings from\n",
    "train set and report the metrics mentioned above. (2 Marks)"
   ]
  },
  {
   "cell_type": "code",
   "execution_count": null,
   "metadata": {},
   "outputs": [],
   "source": [
    "image_to_image = knn(test_embeddings, train_embeddings, k = 100, metric = \"euclidean\")"
   ]
  },
  {
   "cell_type": "markdown",
   "metadata": {},
   "source": [
    "## 3.2 Locally Sensitive Hashing"
   ]
  },
  {
   "cell_type": "markdown",
   "metadata": {},
   "source": [
    "#### `Task 1:` Implement LSH following the article linked above using random hyperplanes."
   ]
  },
  {
   "cell_type": "code",
   "execution_count": 59,
   "metadata": {},
   "outputs": [],
   "source": [
    "import numpy as np\n",
    "import matplotlib.pyplot as plt"
   ]
  },
  {
   "cell_type": "code",
   "execution_count": 61,
   "metadata": {},
   "outputs": [],
   "source": [
    "class LSH:\n",
    "    def __init__(self, num_hyperplanes, dim):\n",
    "        self.num_hyperplanes = num_hyperplanes\n",
    "        self.dim = dim\n",
    "        self.hyperplanes = np.random.randn(num_hyperplanes, dim)\n",
    "        self.buckets = dict()\n",
    "\n",
    "    def hash_vector(self, vec):\n",
    "        return tuple((vec @ self.hyperplanes.T) > 0)\n",
    "\n",
    "    def insert(self, vec, index):\n",
    "        hash_key = self.hash_vector(vec)\n",
    "\n",
    "        if hash_key not in list(self.buckets.keys()):\n",
    "            self.buckets[hash_key] = []\n",
    "        self.buckets[hash_key].append(index)\n",
    "\n",
    "    def query(self, vec, k):\n",
    "        hash_key = self.hash_vector(vec)\n",
    "        candidates = self.buckets.get(hash_key, [])\n",
    "\n",
    "        # there could be too many, so..\n",
    "        if len(candidates) >= k:\n",
    "            return np.random.choice(candidates, k, replace=False)\n",
    "        \n",
    "        all_candidates = list(candidates)\n",
    "        for key, indices in self.buckets.items():\n",
    "            if len(all_candidates) >= k:\n",
    "                break\n",
    "            all_candidates.extend(indices)\n",
    "        \n",
    "        return np.array(all_candidates[:k])"
   ]
  },
  {
   "cell_type": "markdown",
   "metadata": {},
   "source": [
    "#### `Task 2:` Plot histograms showing frequency of samples in each bucket. Do this for different number of hyperplanes. What problems do you notice here?"
   ]
  },
  {
   "cell_type": "code",
   "execution_count": 62,
   "metadata": {},
   "outputs": [],
   "source": [
    "import torch\n",
    "\n",
    "test_embeddings = torch.load(\"data/test_embeddings.pth\").cpu().numpy()\n",
    "test_labels = torch.load(\"data/test_labels.pth\").cpu().numpy()\n",
    "text_embeddings = torch.load(\"data/text_embedding.pth\").cpu().numpy()\n",
    "train_embeddings = torch.load(\"data/train_embeddings.pth\").cpu().numpy()"
   ]
  },
  {
   "cell_type": "code",
   "execution_count": 63,
   "metadata": {},
   "outputs": [],
   "source": [
    "n, d = train_embeddings.shape\n",
    "num_hyperplanes_list = [5, 10, 20, 50]"
   ]
  },
  {
   "cell_type": "code",
   "execution_count": 64,
   "metadata": {},
   "outputs": [
    {
     "data": {
      "image/png": "[encoded data removed]",
      "text/plain": [
       "<Figure size 640x480 with 1 Axes>"
      ]
     },
     "metadata": {},
     "output_type": "display_data"
    }
   ],
   "source": [
    "for num_hyperplanes in num_hyperplanes_list:\n",
    "    lsh = LSH(num_hyperplanes, d)\n",
    "    \n",
    "    for idx, vec in enumerate(train_embeddings):\n",
    "        lsh.insert(vec, idx)\n",
    "    \n",
    "    bucket_sizes = [len(v) for v in lsh.buckets.values()]\n",
    "    plt.hist(bucket_sizes, bins=20, alpha=0.7, label=f'{num_hyperplanes} hyperplanes')"
   ]
  },
  {
   "cell_type": "markdown",
   "metadata": {},
   "source": [
    "Problems that I notice here:"
   ]
  },
  {
   "cell_type": "markdown",
   "metadata": {},
   "source": [
    "fill this ------------------------------------------------------------------------->>>>>>>>>>>>>>>>>>>>>>>"
   ]
  },
  {
   "cell_type": "markdown",
   "metadata": {},
   "source": [
    "#### `Task 3:` Perform image to image retrieval for your choice of k and report metrics mentioned in the previous section."
   ]
  },
  {
   "cell_type": "code",
   "execution_count": 65,
   "metadata": {},
   "outputs": [
    {
     "name": "stderr",
     "output_type": "stream",
     "text": [
      "/tmp/ipykernel_39275/1927524200.py:3: UserWarning: No artists with labels found to put in legend.  Note that artists whose label start with an underscore are ignored when legend() is called with no argument.\n",
      "  plt.legend()\n"
     ]
    },
    {
     "data": {
      "image/png": "[encoded data removed]",
      "text/plain": [
       "<Figure size 640x480 with 1 Axes>"
      ]
     },
     "metadata": {},
     "output_type": "display_data"
    },
    {
     "name": "stdout",
     "output_type": "stream",
     "text": [
      "Retrieved Neighbors for Test Image: [0 0 1 2 3]\n"
     ]
    }
   ],
   "source": [
    "plt.xlabel('Bucket Size')\n",
    "plt.ylabel('Frequency')\n",
    "plt.legend()\n",
    "plt.title('LSH Bucket Distribution')\n",
    "plt.show()\n",
    "\n",
    "test_index = 0\n",
    "retrieved_indices = lsh.query(train_embeddings[test_index], k=5)\n",
    "\n",
    "print(\"Retrieved Neighbors for Test Image:\", retrieved_indices)"
   ]
  },
  {
   "cell_type": "code",
   "execution_count": 2,
   "metadata": {},
   "outputs": [
    {
     "name": "stdout",
     "output_type": "stream",
     "text": [
      "Inserting vectors with 5 hyperplanes...\n"
     ]
    },
    {
     "name": "stderr",
     "output_type": "stream",
     "text": [
      "LSH 5: 100%|██████████| 50000/50000 [00:00<00:00, 165533.49it/s]\n"
     ]
    },
    {
     "name": "stdout",
     "output_type": "stream",
     "text": [
      "Inserting vectors with 10 hyperplanes...\n"
     ]
    },
    {
     "name": "stderr",
     "output_type": "stream",
     "text": [
      "LSH 10: 100%|██████████| 50000/50000 [00:00<00:00, 149537.44it/s]\n"
     ]
    },
    {
     "name": "stdout",
     "output_type": "stream",
     "text": [
      "Inserting vectors with 20 hyperplanes...\n"
     ]
    },
    {
     "name": "stderr",
     "output_type": "stream",
     "text": [
      "LSH 20: 100%|██████████| 50000/50000 [00:00<00:00, 123805.25it/s]\n"
     ]
    },
    {
     "name": "stdout",
     "output_type": "stream",
     "text": [
      "Inserting vectors with 50 hyperplanes...\n"
     ]
    },
    {
     "name": "stderr",
     "output_type": "stream",
     "text": [
      "LSH 50: 100%|██████████| 50000/50000 [00:02<00:00, 18334.54it/s]\n"
     ]
    },
    {
     "data": {
      "image/png": "[encoded data removed]",
      "text/plain": [
       "<Figure size 1200x800 with 4 Axes>"
      ]
     },
     "metadata": {},
     "output_type": "display_data"
    }
   ],
   "source": [
    "import numpy as np\n",
    "import matplotlib.pyplot as plt\n",
    "from tqdm import tqdm\n",
    "import torch\n",
    "\n",
    "class LSH:\n",
    "    def __init__(self, num_hyperplanes, dim):\n",
    "        self.num_hyperplanes = num_hyperplanes\n",
    "        self.dim = dim\n",
    "        self.hyperplanes = np.random.randn(num_hyperplanes, dim)\n",
    "        self.buckets = dict()\n",
    "\n",
    "    def hash_vector(self, vec):\n",
    "        return tuple((vec @ self.hyperplanes.T) > 0)\n",
    "\n",
    "    def insert(self, vec, index):\n",
    "        hash_key = self.hash_vector(vec)\n",
    "        if hash_key not in self.buckets:\n",
    "            self.buckets[hash_key] = []\n",
    "        self.buckets[hash_key].append(index)\n",
    "\n",
    "test_embeddings = torch.load(\"data/test_embeddings.pth\").cpu().numpy()\n",
    "train_embeddings = torch.load(\"data/train_embeddings.pth\").cpu().numpy()\n",
    "\n",
    "n, d = train_embeddings.shape\n",
    "num_hyperplanes_list = [5, 10, 20, 50]\n",
    "\n",
    "# Create subplots for better visualization\n",
    "fig, axes = plt.subplots(2, 2, figsize=(12, 8))  # 2x2 grid of subplots\n",
    "axes = axes.flatten()  # Flatten for easier indexing\n",
    "\n",
    "for i, num_hyperplanes in enumerate(num_hyperplanes_list):\n",
    "    lsh = LSH(num_hyperplanes, d)\n",
    "\n",
    "    print(f\"Inserting vectors with {num_hyperplanes} hyperplanes...\")\n",
    "    for idx, vec in tqdm(enumerate(train_embeddings), total=n, desc=f\"LSH {num_hyperplanes}\"):\n",
    "        lsh.insert(vec, idx)\n",
    "\n",
    "    bucket_sizes = [len(v) for v in lsh.buckets.values()]\n",
    "\n",
    "    # Plot in corresponding subplot\n",
    "    ax = axes[i]\n",
    "    ax.hist(bucket_sizes, bins=20, alpha=0.7, label=f'{num_hyperplanes} hyperplanes')\n",
    "    ax.set_yscale(\"log\")  # Log scale for better visibility\n",
    "    ax.set_title(f\"LSH with {num_hyperplanes} Hyperplanes\")\n",
    "    ax.set_xlabel(\"Bucket Size\")\n",
    "    ax.set_ylabel(\"Frequency\")\n",
    "    ax.legend()\n",
    "\n",
    "plt.tight_layout()  # Adjust layout to prevent overlap\n",
    "plt.show()\n"
   ]
  },
  {
   "cell_type": "markdown",
   "metadata": {},
   "source": [
    "#### `Task 4:` How do these metrics change, on changing the number of hyperplanes, mention possible reasons for these."
   ]
  },
  {
   "cell_type": "markdown",
   "metadata": {},
   "source": []
  },
  {
   "cell_type": "markdown",
   "metadata": {},
   "source": [
    "## 3.3 IVF"
   ]
  },
  {
   "cell_type": "markdown",
   "metadata": {},
   "source": [
    "#### `Task 1`: Implement IVF from scratch. Use Kmeans algorithm for clustering. Since the dataset has 10 classes one can assign clusters as 10 but you are free to experiment."
   ]
  },
  {
   "cell_type": "code",
   "execution_count": 7,
   "metadata": {},
   "outputs": [],
   "source": [
    "import numpy as np\n",
    "import matplotlib.pyplot as plt\n",
    "from sklearn.cluster import KMeans\n",
    "from scipy.spatial.distance import cdist"
   ]
  },
  {
   "cell_type": "code",
   "execution_count": 8,
   "metadata": {},
   "outputs": [],
   "source": [
    "import numpy as np\n",
    "import matplotlib.pyplot as plt\n",
    "from scipy.spatial.distance import cdist\n",
    "from sklearn.cluster import KMeans\n",
    "\n",
    "class IVF:\n",
    "    def __init__(self, k=10):\n",
    "        self.k = k\n",
    "        self.kmeans = KMeans(n_clusters=k, random_state=42, n_init=10)\n",
    "        self.inverted_index = {}\n",
    "    \n",
    "    def fit(self, data):\n",
    "\n",
    "        self.kmeans.fit(data)\n",
    "        labels = self.kmeans.labels_\n",
    "        self.inverted_index = {i: [] for i in range(self.k)}\n",
    "        \n",
    "        for i, label in enumerate(labels):\n",
    "            self.inverted_index[label].append(data[i])\n",
    "        \n",
    "        for key in self.inverted_index:\n",
    "            self.inverted_index[key] = np.array(self.inverted_index[key])\n",
    "    \n",
    "    def search(self, query, nprobe=1, top_k=5):\n",
    "\n",
    "        centroids = self.kmeans.cluster_centers_\n",
    "        dists = cdist([query], centroids, metric='euclidean')[0]\n",
    "        closest_clusters = np.argsort(dists)[:nprobe]\n",
    "        \n",
    "        candidates = []\n",
    "        comparisons = 0\n",
    "        \n",
    "        for cluster in closest_clusters:\n",
    "            cluster_points = self.inverted_index.get(cluster, [])\n",
    "            candidates.extend(cluster_points)\n",
    "            comparisons += len(cluster_points)\n",
    "        \n",
    "        candidates = np.array(candidates)\n",
    "        if len(candidates) == 0:\n",
    "            return [], comparisons\n",
    "        \n",
    "\n",
    "        distances = cdist([query], candidates, metric='euclidean')[0]\n",
    "        nearest_indices = np.argsort(distances)[:top_k]\n",
    "        \n",
    "        return [candidates[i] for i in nearest_indices], comparisons\n",
    "\n",
    "    def image_to_image_retrieval(self, test_embeddings, top_k=100, nprobe=5):\n",
    "\n",
    "        all_retrieved = []\n",
    "        all_comparisons = []\n",
    "        \n",
    "        for test_embedding in test_embeddings:\n",
    "            retrieved, comparisons = self.search(test_embedding, nprobe=nprobe, top_k=top_k)\n",
    "            all_retrieved.append(retrieved)\n",
    "            all_comparisons.append(comparisons)\n",
    "        \n",
    "        return all_retrieved, all_comparisons\n",
    "\n",
    "    def plot_comparisons_vs_nprobe(self, query, max_nprobe=10, top_k=5):\n",
    "        comparisons = []\n",
    "        for nprobe in range(1, max_nprobe + 1):\n",
    "            _, total_comparisons = self.search(query, nprobe=nprobe, top_k=top_k)\n",
    "            comparisons.append(total_comparisons)\n",
    "        \n",
    "        plt.plot(range(1, max_nprobe + 1), comparisons)\n",
    "        plt.xlabel('nprobe')\n",
    "        plt.ylabel('Total Comparisons')\n",
    "        plt.title('Comparisons vs. nprobe')\n",
    "        plt.show()\n",
    "\n",
    "    def plot_cluster_distribution(self):\n",
    "\n",
    "        cluster_sizes = [len(self.inverted_index[i]) for i in range(self.k)]\n",
    "        plt.bar(range(self.k), cluster_sizes)\n",
    "        plt.xlabel(\"Cluster ID\")\n",
    "        plt.ylabel(\"Number of Points\")\n",
    "        plt.title(\"Cluster Distribution\")\n",
    "        plt.show()"
   ]
  },
  {
   "cell_type": "markdown",
   "metadata": {},
   "source": [
    "#### `Task 2`: Perform image to image retrieval again and report the metrics for different value of nprobe."
   ]
  },
  {
   "cell_type": "code",
   "execution_count": 9,
   "metadata": {},
   "outputs": [],
   "source": [
    "ivf = IVF(k=10)\n",
    "ivf.fit(train_embeddings)"
   ]
  },
  {
   "cell_type": "code",
   "execution_count": 10,
   "metadata": {},
   "outputs": [
    {
     "ename": "",
     "evalue": "",
     "output_type": "error",
     "traceback": [
      "\u001b[1;31mThe Kernel crashed while executing code in the current cell or a previous cell. \n",
      "\u001b[1;31mPlease review the code in the cell(s) to identify a possible cause of the failure. \n",
      "\u001b[1;31mClick <a href='https://aka.ms/vscodeJupyterKernelCrash'>here</a> for more info. \n",
      "\u001b[1;31mView Jupyter <a href='command:jupyter.viewOutput'>log</a> for further details."
     ]
    }
   ],
   "source": [
    "retrieved_images, comparisons = ivf.image_to_image_retrieval(test_embeddings, top_k=10, nprobe=2)"
   ]
  },
  {
   "cell_type": "markdown",
   "metadata": {},
   "source": [
    "#### `Task 3`: Plot the number of points in each cluster. Plot the average number of comparisons done for each query vs nprobe"
   ]
  },
  {
   "cell_type": "code",
   "execution_count": null,
   "metadata": {},
   "outputs": [],
   "source": []
  },
  {
   "cell_type": "markdown",
   "metadata": {},
   "source": [
    "## 3.4 Analysis"
   ]
  },
  {
   "cell_type": "code",
   "execution_count": null,
   "metadata": {},
   "outputs": [],
   "source": []
  }
 ],
 "metadata": {
  "kernelspec": {
   "display_name": "smai",
   "language": "python",
   "name": "python3"
  },
  "language_info": {
   "codemirror_mode": {
    "name": "ipython",
    "version": 3
   },
   "file_extension": ".py",
   "mimetype": "text/x-python",
   "name": "python",
   "nbconvert_exporter": "python",
   "pygments_lexer": "ipython3",
   "version": "3.10.16"
  }
 },
 "nbformat": 4,
 "nbformat_minor": 2
}

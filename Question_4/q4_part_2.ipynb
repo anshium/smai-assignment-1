{
 "cells": [
  {
   "cell_type": "markdown",
   "metadata": {},
   "source": [
    "# Video Segmentation with SLIC"
   ]
  },
  {
   "cell_type": "code",
   "execution_count": 3,
   "metadata": {},
   "outputs": [],
   "source": [
    "from q5_random_centers import *"
   ]
  },
  {
   "cell_type": "code",
   "execution_count": null,
   "metadata": {},
   "outputs": [],
   "source": [
    "import cv2\n",
    "import os\n",
    "\n",
    "# Path to the video file\n",
    "video_path = \"segment.mp4\"\n",
    "\n",
    "# Output folder to save frames\n",
    "output_folder = \"frames\"\n",
    "os.makedirs(output_folder, exist_ok=True)\n",
    "\n",
    "# Open the video file\n",
    "cap = cv2.VideoCapture(video_path)\n",
    "\n",
    "# Check if the video was successfully opened\n",
    "if not cap.isOpened():\n",
    "    print(\"Error: Could not open video.\")\n",
    "    exit()\n",
    "\n",
    "frame_count = 0\n",
    "fps = cap.get(cv2.CAP_PROP_FPS)\n",
    "fps\n",
    "# Read frames from the video\n",
    "# while True:\n",
    "#     ret, frame = cap.read()\n",
    "#     if not ret:\n",
    "#         print(\"End of video or error reading frame.\")\n",
    "#         break\n",
    "\n",
    "#     # Save the current frame as an image\n",
    "#     frame_filename = os.path.join(output_folder, f\"frame_{frame_count:04d}.jpg\")\n",
    "#     cv2.imwrite(frame_filename, frame)\n",
    "#     print(f\"Saved {frame_filename}\")\n",
    "\n",
    "#     frame_count += 1\n",
    "\n",
    "# # Release resources\n",
    "# cap.release()\n",
    "# print(f\"Extraction complete. {frame_count} frames saved in '{output_folder}'.\")\n"
   ]
  },
  {
   "cell_type": "code",
   "execution_count": null,
   "metadata": {},
   "outputs": [],
   "source": [
    "# now this should be doable, I need to just write the code"
   ]
  },
  {
   "cell_type": "markdown",
   "metadata": {},
   "source": [
    "### Optimizing the video segmentation"
   ]
  },
  {
   "cell_type": "code",
   "execution_count": null,
   "metadata": {},
   "outputs": [],
   "source": [
    "# Here the idea is to do the full iteration segmentation to reach convergence for the first frame.\n",
    "\n",
    "# But then we can initialise the subsequent frames with the clusters of the last frame.\n",
    "\n",
    "# This would help in getting convergence faster. But, I still have to implement the convergence part right now."
   ]
  }
 ],
 "metadata": {
  "kernelspec": {
   "display_name": "smai",
   "language": "python",
   "name": "python3"
  },
  "language_info": {
   "codemirror_mode": {
    "name": "ipython",
    "version": 3
   },
   "file_extension": ".py",
   "mimetype": "text/x-python",
   "name": "python",
   "nbconvert_exporter": "python",
   "pygments_lexer": "ipython3",
   "version": "3.10.16"
  }
 },
 "nbformat": 4,
 "nbformat_minor": 2
}

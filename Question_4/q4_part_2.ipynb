{
 "cells": [
  {
   "cell_type": "markdown",
   "metadata": {},
   "source": [
    "# Video Segmentation with SLIC"
   ]
  },
  {
   "cell_type": "code",
   "execution_count": 1,
   "metadata": {},
   "outputs": [],
   "source": [
    "from q4_equally_spaced_centers import *\n",
    "import matplotlib.pyplot as plt\n"
   ]
  },
  {
   "cell_type": "code",
   "execution_count": 2,
   "metadata": {},
   "outputs": [
    {
     "name": "stdout",
     "output_type": "stream",
     "text": [
      "Saved frames/frame_0000.jpg\n",
      "Saved frames/frame_0001.jpg\n",
      "Saved frames/frame_0002.jpg\n",
      "Saved frames/frame_0003.jpg\n",
      "Saved frames/frame_0004.jpg\n",
      "Saved frames/frame_0005.jpg\n",
      "Saved frames/frame_0006.jpg\n",
      "Saved frames/frame_0007.jpg\n",
      "Saved frames/frame_0008.jpg\n",
      "Saved frames/frame_0009.jpg\n",
      "Saved frames/frame_0010.jpg\n",
      "End of video or error reading frame.\n",
      "Extraction complete. 11 frames saved in 'frames'.\n"
     ]
    }
   ],
   "source": [
    "import cv2\n",
    "import os\n",
    "\n",
    "video_path = \"data/input.mp4\"\n",
    "\n",
    "output_folder = \"frames\"\n",
    "os.makedirs(output_folder, exist_ok=True)\n",
    "\n",
    "cap = cv2.VideoCapture(video_path)\n",
    "\n",
    "if not cap.isOpened():\n",
    "    print(\"Error: Could not open video.\")\n",
    "    exit()\n",
    "\n",
    "frame_count = 0\n",
    "fps = cap.get(cv2.CAP_PROP_FPS)\n",
    "fps\n",
    "while True:\n",
    "    ret, frame = cap.read()\n",
    "    if not ret:\n",
    "        print(\"End of video or error reading frame.\")\n",
    "        break\n",
    "\n",
    "    frame_filename = os.path.join(output_folder, f\"frame_{frame_count:04d}.jpg\")\n",
    "    cv2.imwrite(frame_filename, frame)\n",
    "    print(f\"Saved {frame_filename}\")\n",
    "\n",
    "    frame_count += 1\n",
    "\n",
    "cap.release()\n",
    "print(f\"Extraction complete. {frame_count} frames saved in '{output_folder}'.\")\n"
   ]
  },
  {
   "cell_type": "code",
   "execution_count": 3,
   "metadata": {},
   "outputs": [],
   "source": [
    "def do_slic(image_path, num_segments, compactness, only_one_image=False, keep_images=False):\n",
    "    image = cv2.imread(image_path)\n",
    "    # image = cv2.imread(\"/home/anshium/workspace/courses/smai/smai-assignment-1/Question_5/more_images/SLIC/2.jpg\")\n",
    "    # image = cv2.imread(\"/home/anshium/Pictures/wallpapers/Fantasy-Lake2.png\")\n",
    "    image = cv2.cvtColor(image, cv2.COLOR_BGR2LAB)\n",
    "\n",
    "    slic = SLIC(image, num_segments, compactness, keep_images)\n",
    "\n",
    "    slic.iterate()\n",
    "    segmentation = slic.get_segmentation()\n",
    "\n",
    "    segmentation_bgr = cv2.cvtColor(segmentation, cv2.COLOR_LAB2BGR)\n",
    "    # cv2.imwrite(\"segmentation.jpg\", segmentation_bgr)\n",
    "\n",
    "    segmentation_rgb = cv2.cvtColor(segmentation_bgr, cv2.COLOR_BGR2RGB)\n",
    "\n",
    "    if(only_one_image):\n",
    "        plt.figure(figsize=(8, 8))\n",
    "        plt.imshow(segmentation_rgb)\n",
    "        plt.axis(\"off\")\n",
    "        plt.title(\"Segmented Image\")\n",
    "        plt.show()\n",
    "\n",
    "    return segmentation_rgb, slic.num_iters\n",
    "\n"
   ]
  },
  {
   "cell_type": "code",
   "execution_count": 4,
   "metadata": {},
   "outputs": [
    {
     "name": "stdout",
     "output_type": "stream",
     "text": [
      "['data/frames/frame_0065.jpg', 'data/frames/frame_0066.jpg', 'data/frames/frame_0067.jpg', 'data/frames/frame_0068.jpg', 'data/frames/frame_0069.jpg', 'data/frames/frame_0070.jpg', 'data/frames/frame_0071.jpg', 'data/frames/frame_0072.jpg', 'data/frames/frame_0073.jpg', 'data/frames/frame_0074.jpg', 'data/frames/frame_0075.jpg']\n"
     ]
    },
    {
     "name": "stderr",
     "output_type": "stream",
     "text": [
      "Processing Frames: 100%|██████████| 11/11 [04:10<00:00, 22.80s/it]\n",
      "Generating Video: 100%|██████████| 11/11 [00:00<00:00, 39.03it/s]"
     ]
    },
    {
     "name": "stdout",
     "output_type": "stream",
     "text": [
      "Video saved as segmented_video.mp4\n",
      "Iterations taken (frame_wise): [32, 29, 30, 29, 25, 33, 26, 30, 23, 39, 36]\n",
      "Average iterations: 30.181818181818183\n"
     ]
    },
    {
     "name": "stderr",
     "output_type": "stream",
     "text": [
      "\n"
     ]
    }
   ],
   "source": [
    "import cv2\n",
    "import os\n",
    "import glob\n",
    "from tqdm import tqdm\n",
    "\n",
    "def process_frames(input_folder, output_folder, num_segments=100, compactness=10.0):\n",
    "\n",
    "    iters = []\n",
    "\n",
    "    os.makedirs(output_folder, exist_ok=True)\n",
    "    frame_files = sorted(glob.glob(os.path.join(input_folder, \"*.jpg\")))\n",
    "    \n",
    "    print(frame_files)\n",
    "\n",
    "    for frame_path in tqdm(frame_files, desc=\"Processing Frames\"):\n",
    "        segmented_frame, num_iters = do_slic(frame_path, num_segments, compactness)\n",
    "        output_path = os.path.join(output_folder, os.path.basename(frame_path))\n",
    "        cv2.imwrite(output_path, cv2.cvtColor(segmented_frame, cv2.COLOR_RGB2BGR))\n",
    "\n",
    "        iters.append(num_iters)\n",
    "\n",
    "    return iters\n",
    "\n",
    "def frames_to_video(frame_folder, output_video, fps=30):\n",
    "    frame_files = sorted(glob.glob(os.path.join(frame_folder, \"*.jpg\")))\n",
    "    if not frame_files:\n",
    "        print(\"No frames found!\")\n",
    "        return\n",
    "    \n",
    "    first_frame = cv2.imread(frame_files[0])\n",
    "    height, width, layers = first_frame.shape\n",
    "\n",
    "    fourcc = cv2.VideoWriter_fourcc(*'mp4v')\n",
    "    video = cv2.VideoWriter(output_video, fourcc, fps, (width, height))\n",
    "\n",
    "    for frame_path in tqdm(frame_files, desc=\"Generating Video\"):\n",
    "        frame = cv2.imread(frame_path)\n",
    "        video.write(frame)\n",
    "\n",
    "    video.release()\n",
    "    print(f\"Video saved as {output_video}\")\n",
    "\n",
    "input_frames = \"data/frames/\"\n",
    "output_frames = \"segmented_frames/\"\n",
    "output_video = \"segmented_video.mp4\"\n",
    "\n",
    "iters = process_frames(input_frames, output_frames, num_segments=150, compactness=20.0)\n",
    "frames_to_video(output_frames, output_video, fps=30)\n",
    "\n",
    "print(\"Iterations taken (frame_wise):\", iters)\n",
    "print(\"Average iterations:\", np.average(iters))"
   ]
  },
  {
   "cell_type": "markdown",
   "metadata": {},
   "source": [
    "### Optimizing the video segmentation"
   ]
  },
  {
   "cell_type": "code",
   "execution_count": null,
   "metadata": {},
   "outputs": [],
   "source": [
    "# Here the idea is to do the full iteration segmentation to reach convergence for the first frame.\n",
    "\n",
    "# But then we can initialise the subsequent frames with the clusters of the last frame.\n",
    "\n",
    "# This would help in getting convergence faster. But, I still have to implement the convergence part right now."
   ]
  },
  {
   "cell_type": "code",
   "execution_count": 1,
   "metadata": {},
   "outputs": [],
   "source": [
    "from q4_self_initialise import SLIC_SELF_INITIALISE\n",
    "from q4_equally_spaced_centers import SLIC\n",
    "\n",
    "import cv2\n",
    "import os\n",
    "import glob\n",
    "from tqdm import tqdm\n",
    "import matplotlib.pyplot as plt\n"
   ]
  },
  {
   "cell_type": "code",
   "execution_count": 2,
   "metadata": {},
   "outputs": [
    {
     "name": "stderr",
     "output_type": "stream",
     "text": [
      "Processing Frames:   9%|▉         | 1/11 [00:24<04:02, 24.24s/it]"
     ]
    },
    {
     "name": "stdout",
     "output_type": "stream",
     "text": [
      "171.47076045061792\n",
      "75.33615679269762\n",
      "33.671880760857086\n",
      "19.871901160093575\n",
      "14.963865967633208\n",
      "12.364359074669386\n",
      "8.426801851220278\n",
      "4.987302505443724\n",
      "3.5183207000055523\n",
      "2.6056924966457764\n",
      "1.9950651353233455\n",
      "1.6498580328229433\n",
      "1.3229173669207468\n",
      "1.2375860524238786\n",
      "1.0502097848386984\n",
      "0.7915008675476084\n",
      "0.7572076794228557\n",
      "0.4845026650303345\n"
     ]
    },
    {
     "name": "stderr",
     "output_type": "stream",
     "text": [
      "Processing Frames:  18%|█▊        | 2/11 [00:37<02:42, 18.07s/it]"
     ]
    },
    {
     "name": "stdout",
     "output_type": "stream",
     "text": [
      "105.81844365119768\n",
      "45.996218228760966\n",
      "28.120354866418488\n",
      "14.314451021747189\n",
      "8.121356038270807\n",
      "6.275287174376194\n",
      "4.913541993946767\n",
      "4.836471449837335\n",
      "4.481123084125333\n",
      "4.265510978981613\n",
      "3.113096119004739\n",
      "2.2047578145471878\n",
      "1.413795864001071\n",
      "0.8232600143402208\n",
      "0.41625607862465447\n"
     ]
    },
    {
     "name": "stderr",
     "output_type": "stream",
     "text": [
      "Processing Frames:  27%|██▋       | 3/11 [00:49<02:00, 15.12s/it]"
     ]
    },
    {
     "name": "stdout",
     "output_type": "stream",
     "text": [
      "74.61020306229187\n",
      "28.280220078717974\n",
      "13.453693890535416\n",
      "8.77738012206957\n",
      "5.251675029696132\n",
      "2.6396440807162063\n",
      "1.9925339760962342\n",
      "0.7952534136537924\n",
      "0.21629699504033476\n"
     ]
    },
    {
     "name": "stderr",
     "output_type": "stream",
     "text": [
      "Processing Frames:  36%|███▋      | 4/11 [00:57<01:24, 12.14s/it]"
     ]
    },
    {
     "name": "stdout",
     "output_type": "stream",
     "text": [
      "73.23369163473794\n",
      "28.12007973839462\n",
      "11.680456029229294\n",
      "5.761256272941741\n",
      "2.846756881988352\n",
      "1.6605370915763524\n",
      "1.2925513614817057\n",
      "0.4337583162628566\n"
     ]
    },
    {
     "name": "stderr",
     "output_type": "stream",
     "text": [
      "Processing Frames:  45%|████▌     | 5/11 [01:03<01:01, 10.17s/it]"
     ]
    },
    {
     "name": "stdout",
     "output_type": "stream",
     "text": [
      "61.51204028369279\n",
      "25.79038311477892\n",
      "14.207306624200784\n",
      "11.433951351731334\n",
      "9.906594399899692\n",
      "8.561971190677193\n",
      "7.119722710804557\n",
      "5.080976131701729\n",
      "2.5893671228880937\n",
      "1.2508031137782172\n",
      "0.7298148444498259\n",
      "0.43145786745790826\n"
     ]
    },
    {
     "name": "stderr",
     "output_type": "stream",
     "text": [
      "Processing Frames:  55%|█████▍    | 6/11 [01:13<00:49,  9.86s/it]"
     ]
    },
    {
     "name": "stdout",
     "output_type": "stream",
     "text": [
      "60.46631235934975\n",
      "23.819517814800268\n",
      "10.766438437022066\n",
      "4.827734606227825\n",
      "2.5628519192182004\n",
      "1.3420907137353877\n",
      "1.1682168297067037\n",
      "0.3584611303883772\n"
     ]
    },
    {
     "name": "stderr",
     "output_type": "stream",
     "text": [
      "Processing Frames:  64%|██████▎   | 7/11 [01:19<00:35,  8.77s/it]"
     ]
    },
    {
     "name": "stdout",
     "output_type": "stream",
     "text": [
      "49.857509165664815\n",
      "21.454332840575958\n",
      "11.191846435671463\n",
      "6.089129416514677\n",
      "3.4347452974762973\n",
      "2.2836998001673834\n",
      "1.0823421692450592\n",
      "1.016258120611009\n",
      "0.990303781908859\n",
      "0.9521374449395593\n",
      "0.7685704238435191\n",
      "0.11142860392923758\n"
     ]
    },
    {
     "name": "stderr",
     "output_type": "stream",
     "text": [
      "Processing Frames:  73%|███████▎  | 8/11 [01:29<00:27,  9.05s/it]"
     ]
    },
    {
     "name": "stdout",
     "output_type": "stream",
     "text": [
      "57.522479645835126\n",
      "25.16717136906562\n",
      "9.755915317824144\n",
      "4.331199496124845\n",
      "1.9698965450963104\n",
      "1.3085267286993014\n",
      "0.40037042660461847\n"
     ]
    },
    {
     "name": "stderr",
     "output_type": "stream",
     "text": [
      "Processing Frames:  82%|████████▏ | 9/11 [01:34<00:15,  7.96s/it]"
     ]
    },
    {
     "name": "stdout",
     "output_type": "stream",
     "text": [
      "51.50563352633864\n",
      "18.183031707092415\n",
      "7.365330152155837\n",
      "3.7792883513223816\n",
      "2.156972175500807\n",
      "1.541963491035462\n",
      "0.79127345361802\n",
      "1.67017155991691\n",
      "1.8172440919934798\n",
      "3.8741605193663013\n",
      "6.707472040670726\n",
      "11.483498703646966\n",
      "3.675467334781131\n",
      "1.0327939328525433\n",
      "0.5259023485406246\n",
      "0.44279296889868425\n"
     ]
    },
    {
     "name": "stderr",
     "output_type": "stream",
     "text": [
      "Processing Frames:  91%|█████████ | 10/11 [01:46<00:09,  9.25s/it]"
     ]
    },
    {
     "name": "stdout",
     "output_type": "stream",
     "text": [
      "52.85225753704057\n",
      "25.092625904702913\n",
      "11.343921107824379\n",
      "5.011790360262057\n",
      "2.50572464880649\n",
      "1.4398022845824996\n",
      "0.9462560084019658\n",
      "0.5290080997899981\n",
      "0.3006707770724758\n"
     ]
    },
    {
     "name": "stderr",
     "output_type": "stream",
     "text": [
      "Processing Frames: 100%|██████████| 11/11 [01:54<00:00, 10.39s/it]\n",
      "Generating Video: 100%|██████████| 11/11 [00:00<00:00, 41.96it/s]"
     ]
    },
    {
     "name": "stdout",
     "output_type": "stream",
     "text": [
      "Video saved as segmented_video_optimised.mp4\n"
     ]
    },
    {
     "name": "stderr",
     "output_type": "stream",
     "text": [
      "\n"
     ]
    }
   ],
   "source": [
    "input_frames = \"data/frames\"\n",
    "output_frames = \"segmented_frames_optimised/\"\n",
    "output_video = \"segmented_video_optimised.mp4\"\n",
    "\n",
    "def do_optimised_slic_for_video(input_frames, output_frames):\n",
    "    os.makedirs(output_frames, exist_ok=True)\n",
    "    frame_files = sorted(glob.glob(os.path.join(input_frames, \"*.jpg\")))\n",
    "    \n",
    "    if not frame_files:\n",
    "        print(\"No frames found in the directory.\")\n",
    "        return\n",
    "    \n",
    "    num_segments = 150\n",
    "    compactness = 20.0\n",
    "    \n",
    "    clusters = []\n",
    "    \n",
    "    os.makedirs(output_frames, exist_ok=True)\n",
    "    \n",
    "    og_slic_iters = 0\n",
    "    optimised_slic_iters = []\n",
    "\n",
    "    for i, frame_path in enumerate(tqdm(frame_files, desc=\"Processing Frames\")):\n",
    "        image = cv2.imread(frame_path)\n",
    "        image = cv2.cvtColor(image, cv2.COLOR_BGR2LAB)\n",
    "        \n",
    "        if i == 0:\n",
    "            slic = SLIC(image, num_segments, compactness, keep_images=False)\n",
    "            slic.iterate()\n",
    "            clusters = slic.clusters\n",
    "\n",
    "            og_slic_iters = slic.num_iters\n",
    "        else:\n",
    "            slic = SLIC_SELF_INITIALISE(image, num_segments, compactness, clusters, keep_images=False)\n",
    "            slic.iterate()\n",
    "            clusters = slic.clusters \n",
    "\n",
    "            optimised_slic_iters.append(slic.num_iters)\n",
    "        \n",
    "        segmentation = slic.get_segmentation()\n",
    "        segmentation_bgr = cv2.cvtColor(segmentation, cv2.COLOR_LAB2BGR)\n",
    "        output_path = os.path.join(output_frames, f\"frame_{i:04d}.jpg\")\n",
    "        cv2.imwrite(output_path, segmentation_bgr)\n",
    "\n",
    "    return og_slic_iters, optimised_slic_iters\n",
    "\n",
    "\n",
    "def frames_to_video(frame_folder, output_video, fps=30):\n",
    "    frame_files = sorted(glob.glob(os.path.join(frame_folder, \"*.jpg\")))\n",
    "    if not frame_files:\n",
    "        print(\"No frames found!\")\n",
    "        return\n",
    "    \n",
    "    first_frame = cv2.imread(frame_files[0])\n",
    "    height, width, layers = first_frame.shape\n",
    "\n",
    "    fourcc = cv2.VideoWriter_fourcc(*'mp4v')\n",
    "    video = cv2.VideoWriter(output_video, fourcc, fps, (width, height))\n",
    "\n",
    "    for frame_path in tqdm(frame_files, desc=\"Generating Video\"):\n",
    "        frame = cv2.imread(frame_path)\n",
    "        video.write(frame)\n",
    "\n",
    "    video.release()\n",
    "    print(f\"Video saved as {output_video}\")\n",
    "\n",
    "\n",
    "og_slic_iters, optimised_slic_iters = do_optimised_slic_for_video(input_frames, output_frames)\n",
    "frames_to_video(output_frames, output_video, fps=30)"
   ]
  },
  {
   "cell_type": "code",
   "execution_count": 3,
   "metadata": {},
   "outputs": [
    {
     "name": "stdout",
     "output_type": "stream",
     "text": [
      "[18, 15, 9, 8, 12, 8, 12, 7, 16, 9]\n"
     ]
    },
    {
     "data": {
      "image/png": "[encoded data removed]",
      "text/plain": [
       "<Figure size 1000x500 with 1 Axes>"
      ]
     },
     "metadata": {},
     "output_type": "display_data"
    }
   ],
   "source": [
    "print(optimised_slic_iters)\n",
    "\n",
    "frame_indices = list(range(1, len(optimised_slic_iters) + 1))\n",
    "\n",
    "plt.figure(figsize=(10, 5))\n",
    "plt.plot(frame_indices, optimised_slic_iters, marker='o', linestyle='-', label=\"Optimised SLIC Iterations\")\n",
    "plt.axhline(y=og_slic_iters, color='r', linestyle='--', label=\"Original SLIC Iterations\")\n",
    "\n",
    "plt.xlabel(\"Frame Index\")\n",
    "plt.ylabel(\"Number of Iterations\")\n",
    "plt.title(\"SLIC Iterations for Video Segmentation\")\n",
    "plt.legend()\n",
    "plt.grid()\n",
    "\n",
    "plt.show()"
   ]
  }
 ],
 "metadata": {
  "kernelspec": {
   "display_name": "smai",
   "language": "python",
   "name": "python3"
  },
  "language_info": {
   "codemirror_mode": {
    "name": "ipython",
    "version": 3
   },
   "file_extension": ".py",
   "mimetype": "text/x-python",
   "name": "python",
   "nbconvert_exporter": "python",
   "pygments_lexer": "ipython3",
   "version": "3.10.16"
  }
 },
 "nbformat": 4,
 "nbformat_minor": 2
}

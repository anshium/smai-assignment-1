{
 "cells": [
  {
   "cell_type": "markdown",
   "metadata": {},
   "source": [
    "# Video Segmentation with SLIC"
   ]
  },
  {
   "cell_type": "code",
   "execution_count": 1,
   "metadata": {},
   "outputs": [],
   "source": [
    "from q4_equally_spaced_centers import *\n",
    "import matplotlib.pyplot as plt\n"
   ]
  },
  {
   "cell_type": "code",
   "execution_count": 3,
   "metadata": {},
   "outputs": [
    {
     "name": "stdout",
     "output_type": "stream",
     "text": [
      "Saved frames/frame_0000.jpg\n",
      "Saved frames/frame_0001.jpg\n",
      "Saved frames/frame_0002.jpg\n",
      "Saved frames/frame_0003.jpg\n",
      "Saved frames/frame_0004.jpg\n",
      "Saved frames/frame_0005.jpg\n",
      "Saved frames/frame_0006.jpg\n",
      "Saved frames/frame_0007.jpg\n",
      "Saved frames/frame_0008.jpg\n",
      "Saved frames/frame_0009.jpg\n",
      "Saved frames/frame_0010.jpg\n",
      "End of video or error reading frame.\n",
      "Extraction complete. 11 frames saved in 'frames'.\n"
     ]
    }
   ],
   "source": [
    "import cv2\n",
    "import os\n",
    "\n",
    "video_path = \"data/input.mp4\"\n",
    "\n",
    "output_folder = \"frames\"\n",
    "os.makedirs(output_folder, exist_ok=True)\n",
    "\n",
    "cap = cv2.VideoCapture(video_path)\n",
    "\n",
    "if not cap.isOpened():\n",
    "    print(\"Error: Could not open video.\")\n",
    "    exit()\n",
    "\n",
    "frame_count = 0\n",
    "fps = cap.get(cv2.CAP_PROP_FPS)\n",
    "fps\n",
    "while True:\n",
    "    ret, frame = cap.read()\n",
    "    if not ret:\n",
    "        print(\"End of video or error reading frame.\")\n",
    "        break\n",
    "\n",
    "    frame_filename = os.path.join(output_folder, f\"frame_{frame_count:04d}.jpg\")\n",
    "    cv2.imwrite(frame_filename, frame)\n",
    "    print(f\"Saved {frame_filename}\")\n",
    "\n",
    "    frame_count += 1\n",
    "\n",
    "cap.release()\n",
    "print(f\"Extraction complete. {frame_count} frames saved in '{output_folder}'.\")\n"
   ]
  },
  {
   "cell_type": "code",
   "execution_count": 2,
   "metadata": {},
   "outputs": [],
   "source": [
    "def do_slic(image_path, num_segments, compactness, only_one_image=False, keep_images=False):\n",
    "    image = cv2.imread(image_path)\n",
    "    # image = cv2.imread(\"/home/anshium/workspace/courses/smai/smai-assignment-1/Question_5/more_images/SLIC/2.jpg\")\n",
    "    # image = cv2.imread(\"/home/anshium/Pictures/wallpapers/Fantasy-Lake2.png\")\n",
    "    image = cv2.cvtColor(image, cv2.COLOR_BGR2LAB)\n",
    "\n",
    "    slic = SLIC(image, num_segments, compactness, keep_images)\n",
    "\n",
    "    slic.iterate()\n",
    "    segmentation = slic.get_segmentation()\n",
    "\n",
    "    segmentation_bgr = cv2.cvtColor(segmentation, cv2.COLOR_LAB2BGR)\n",
    "    # cv2.imwrite(\"segmentation.jpg\", segmentation_bgr)\n",
    "\n",
    "    segmentation_rgb = cv2.cvtColor(segmentation_bgr, cv2.COLOR_BGR2RGB)\n",
    "\n",
    "    if(only_one_image):\n",
    "        plt.figure(figsize=(8, 8))\n",
    "        plt.imshow(segmentation_rgb)\n",
    "        plt.axis(\"off\")\n",
    "        plt.title(\"Segmented Image\")\n",
    "        plt.show()\n",
    "\n",
    "    return segmentation_rgb\n",
    "\n"
   ]
  },
  {
   "cell_type": "code",
   "execution_count": 4,
   "metadata": {},
   "outputs": [
    {
     "name": "stderr",
     "output_type": "stream",
     "text": [
      "Processing Frames: 100%|██████████| 11/11 [04:03<00:00, 22.13s/it]\n",
      "Generating Video: 100%|██████████| 12/12 [00:00<00:00, 41.20it/s]"
     ]
    },
    {
     "name": "stdout",
     "output_type": "stream",
     "text": [
      "Video saved as segmented_video.mp4\n"
     ]
    },
    {
     "name": "stderr",
     "output_type": "stream",
     "text": [
      "\n"
     ]
    }
   ],
   "source": [
    "import cv2\n",
    "import os\n",
    "import glob\n",
    "from tqdm import tqdm\n",
    "\n",
    "def process_frames(input_folder, output_folder, num_segments=100, compactness=10.0):\n",
    "    os.makedirs(output_folder, exist_ok=True)\n",
    "    frame_files = sorted(glob.glob(os.path.join(input_folder, \"*.jpg\")))\n",
    "    \n",
    "    for frame_path in tqdm(frame_files, desc=\"Processing Frames\"):\n",
    "        segmented_frame = do_slic(frame_path, num_segments, compactness)\n",
    "        output_path = os.path.join(output_folder, os.path.basename(frame_path))\n",
    "        cv2.imwrite(output_path, cv2.cvtColor(segmented_frame, cv2.COLOR_RGB2BGR))\n",
    "\n",
    "def frames_to_video(frame_folder, output_video, fps=30):\n",
    "    frame_files = sorted(glob.glob(os.path.join(frame_folder, \"*.jpg\")))\n",
    "    if not frame_files:\n",
    "        print(\"No frames found!\")\n",
    "        return\n",
    "    \n",
    "    first_frame = cv2.imread(frame_files[0])\n",
    "    height, width, layers = first_frame.shape\n",
    "\n",
    "    fourcc = cv2.VideoWriter_fourcc(*'mp4v')\n",
    "    video = cv2.VideoWriter(output_video, fourcc, fps, (width, height))\n",
    "\n",
    "    for frame_path in tqdm(frame_files, desc=\"Generating Video\"):\n",
    "        frame = cv2.imread(frame_path)\n",
    "        video.write(frame)\n",
    "\n",
    "    video.release()\n",
    "    print(f\"Video saved as {output_video}\")\n",
    "\n",
    "input_frames = \"data/frames/\"\n",
    "output_frames = \"segmented_frames/\"\n",
    "output_video = \"segmented_video.mp4\"\n",
    "\n",
    "process_frames(input_frames, output_frames, num_segments=150, compactness=20.0)\n",
    "frames_to_video(output_frames, output_video, fps=30)"
   ]
  },
  {
   "cell_type": "markdown",
   "metadata": {},
   "source": [
    "### Optimizing the video segmentation"
   ]
  },
  {
   "cell_type": "code",
   "execution_count": null,
   "metadata": {},
   "outputs": [],
   "source": [
    "# Here the idea is to do the full iteration segmentation to reach convergence for the first frame.\n",
    "\n",
    "# But then we can initialise the subsequent frames with the clusters of the last frame.\n",
    "\n",
    "# This would help in getting convergence faster. But, I still have to implement the convergence part right now."
   ]
  },
  {
   "cell_type": "code",
   "execution_count": null,
   "metadata": {},
   "outputs": [],
   "source": [
    "def do_optimised_slic_for_video():\n",
    "    pass"
   ]
  }
 ],
 "metadata": {
  "kernelspec": {
   "display_name": "smai",
   "language": "python",
   "name": "python3"
  },
  "language_info": {
   "codemirror_mode": {
    "name": "ipython",
    "version": 3
   },
   "file_extension": ".py",
   "mimetype": "text/x-python",
   "name": "python",
   "nbconvert_exporter": "python",
   "pygments_lexer": "ipython3",
   "version": "3.10.16"
  }
 },
 "nbformat": 4,
 "nbformat_minor": 2
}
